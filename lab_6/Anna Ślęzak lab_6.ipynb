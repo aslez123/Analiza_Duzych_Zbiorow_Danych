{
 "cells": [
  {
   "cell_type": "markdown",
   "metadata": {
    "application/vnd.databricks.v1+cell": {
     "cellMetadata": {
      "byteLimit": 2048000,
      "rowLimit": 10000
     },
     "inputWidgets": {},
     "nuid": "a8eb52d9-4f85-432f-b762-79e487cd0f4a",
     "showTitle": false,
     "title": ""
    },
    "collapsed": false,
    "jupyter": {
     "outputs_hidden": false
    }
   },
   "source": [
    "# ADZD Lab6 - Spark MLlib"
   ]
  },
  {
   "cell_type": "markdown",
   "metadata": {
    "application/vnd.databricks.v1+cell": {
     "cellMetadata": {
      "byteLimit": 2048000,
      "rowLimit": 10000
     },
     "inputWidgets": {},
     "nuid": "3c5f00eb-2564-4a20-bcf4-2442a518b81d",
     "showTitle": false,
     "title": ""
    },
    "collapsed": false,
    "jupyter": {
     "outputs_hidden": false
    }
   },
   "source": [
    "## Setup"
   ]
  },
  {
   "cell_type": "code",
   "execution_count": 1,
   "metadata": {
    "ExecuteTime": {
     "end_time": "2023-11-17T00:28:45.023002Z",
     "start_time": "2023-11-17T00:28:43.257745Z"
    },
    "application/vnd.databricks.v1+cell": {
     "cellMetadata": {
      "byteLimit": 2048000,
      "rowLimit": 10000
     },
     "inputWidgets": {},
     "nuid": "23551d31-48dc-4611-9e97-18440cd681b3",
     "showTitle": false,
     "title": ""
    },
    "collapsed": false,
    "jupyter": {
     "outputs_hidden": false
    }
   },
   "outputs": [],
   "source": [
    "from pyspark.sql import SparkSession\n",
    "from pyspark.sql import functions as F\n",
    "spark = SparkSession.builder.getOrCreate()"
   ]
  },
  {
   "cell_type": "code",
   "execution_count": 2,
   "metadata": {
    "ExecuteTime": {
     "end_time": "2023-11-17T00:28:45.364398Z",
     "start_time": "2023-11-17T00:28:45.025765Z"
    },
    "application/vnd.databricks.v1+cell": {
     "cellMetadata": {
      "byteLimit": 2048000,
      "rowLimit": 10000
     },
     "inputWidgets": {},
     "nuid": "d1eb6827-6c79-4f43-a097-59c001f8a7b6",
     "showTitle": false,
     "title": ""
    },
    "collapsed": false,
    "jupyter": {
     "outputs_hidden": false
    }
   },
   "outputs": [
    {
     "data": {
      "text/html": [
       "\n",
       "            <div>\n",
       "                <p><b>SparkSession - in-memory</b></p>\n",
       "                \n",
       "        <div>\n",
       "            <p><b>SparkContext</b></p>\n",
       "\n",
       "            <p><a href=\"http://30f5592d4d08:4040\">Spark UI</a></p>\n",
       "\n",
       "            <dl>\n",
       "              <dt>Version</dt>\n",
       "                <dd><code>v3.5.0</code></dd>\n",
       "              <dt>Master</dt>\n",
       "                <dd><code>local[*]</code></dd>\n",
       "              <dt>AppName</dt>\n",
       "                <dd><code>pyspark-shell</code></dd>\n",
       "            </dl>\n",
       "        </div>\n",
       "        \n",
       "            </div>\n",
       "        "
      ],
      "text/plain": [
       "<pyspark.sql.session.SparkSession at 0x7f666bd22c50>"
      ]
     },
     "execution_count": 2,
     "metadata": {},
     "output_type": "execute_result"
    }
   ],
   "source": [
    "spark"
   ]
  },
  {
   "cell_type": "markdown",
   "metadata": {
    "application/vnd.databricks.v1+cell": {
     "cellMetadata": {
      "byteLimit": 2048000,
      "rowLimit": 10000
     },
     "inputWidgets": {},
     "nuid": "f6b8151f-140b-4c70-bbae-f789ad2b377d",
     "showTitle": false,
     "title": ""
    },
    "collapsed": false,
    "jupyter": {
     "outputs_hidden": false
    }
   },
   "source": [
    "## 1. Statistics (1p.)"
   ]
  },
  {
   "cell_type": "markdown",
   "metadata": {
    "application/vnd.databricks.v1+cell": {
     "cellMetadata": {
      "byteLimit": 2048000,
      "rowLimit": 10000
     },
     "inputWidgets": {},
     "nuid": "82e4dbc5-7514-4efe-ae30-43c1fce4c6f0",
     "showTitle": false,
     "title": ""
    },
    "collapsed": false,
    "jupyter": {
     "outputs_hidden": false
    }
   },
   "source": [
    "Download the following dataset: https://www.kaggle.com/datasets/joebeachcapital/30000-spotify-songs"
   ]
  },
  {
   "cell_type": "markdown",
   "metadata": {
    "application/vnd.databricks.v1+cell": {
     "cellMetadata": {
      "byteLimit": 2048000,
      "rowLimit": 10000
     },
     "inputWidgets": {},
     "nuid": "61513d21-7ead-4834-83c1-1782f247c1d5",
     "showTitle": false,
     "title": ""
    },
    "collapsed": false,
    "jupyter": {
     "outputs_hidden": false
    }
   },
   "source": [
    "#### Exercise 1.A"
   ]
  },
  {
   "cell_type": "markdown",
   "metadata": {
    "application/vnd.databricks.v1+cell": {
     "cellMetadata": {
      "byteLimit": 2048000,
      "rowLimit": 10000
     },
     "inputWidgets": {},
     "nuid": "4254e661-79a4-4fc5-9137-5e2d6737e3bc",
     "showTitle": false,
     "title": ""
    },
    "collapsed": false,
    "jupyter": {
     "outputs_hidden": false
    }
   },
   "source": [
    "Show the first 10 rows of the dataset. What columns and what kind of data they contain? Hint: use show() method"
   ]
  },
  {
   "cell_type": "code",
   "execution_count": 87,
   "metadata": {
    "ExecuteTime": {
     "end_time": "2023-11-17T00:28:54.845614Z",
     "start_time": "2023-11-17T00:28:54.838999Z"
    },
    "application/vnd.databricks.v1+cell": {
     "cellMetadata": {
      "byteLimit": 2048000,
      "rowLimit": 10000
     },
     "inputWidgets": {},
     "nuid": "fddff366-c349-4f95-a818-787ea48869e4",
     "showTitle": false,
     "title": ""
    },
    "collapsed": false,
    "jupyter": {
     "outputs_hidden": false
    }
   },
   "outputs": [],
   "source": [
    "file_location = \"spotify_songs.csv\"\n",
    "file_type = \"csv\"\n",
    "\n",
    "infer_schema = \"true\"\n",
    "first_row_is_header = \"true\"\n",
    "delimiter = \",\"\n",
    "\n",
    "df = spark.read.format(file_type) \\\n",
    "  .option(\"inferSchema\", infer_schema) \\\n",
    "  .option(\"header\", first_row_is_header) \\\n",
    "  .option(\"sep\", delimiter) \\\n",
    "  .load(file_location)\n"
   ]
  },
  {
   "cell_type": "code",
   "execution_count": 5,
   "metadata": {
    "application/vnd.databricks.v1+cell": {
     "cellMetadata": {
      "byteLimit": 2048000,
      "rowLimit": 10000
     },
     "inputWidgets": {},
     "nuid": "19e87424-ce1e-4db2-a5d8-5cc9727b331d",
     "showTitle": false,
     "title": ""
    }
   },
   "outputs": [
    {
     "data": {
      "text/html": [
       "<div>\n",
       "<style scoped>\n",
       "    .dataframe tbody tr th:only-of-type {\n",
       "        vertical-align: middle;\n",
       "    }\n",
       "\n",
       "    .dataframe tbody tr th {\n",
       "        vertical-align: top;\n",
       "    }\n",
       "\n",
       "    .dataframe thead th {\n",
       "        text-align: right;\n",
       "    }\n",
       "</style>\n",
       "<table border=\"1\" class=\"dataframe\">\n",
       "  <thead>\n",
       "    <tr style=\"text-align: right;\">\n",
       "      <th></th>\n",
       "      <th>track_id</th>\n",
       "      <th>track_name</th>\n",
       "      <th>track_artist</th>\n",
       "      <th>track_popularity</th>\n",
       "      <th>track_album_id</th>\n",
       "      <th>track_album_name</th>\n",
       "      <th>track_album_release_date</th>\n",
       "      <th>playlist_name</th>\n",
       "      <th>playlist_id</th>\n",
       "      <th>playlist_genre</th>\n",
       "      <th>...</th>\n",
       "      <th>key</th>\n",
       "      <th>loudness</th>\n",
       "      <th>mode</th>\n",
       "      <th>speechiness</th>\n",
       "      <th>acousticness</th>\n",
       "      <th>instrumentalness</th>\n",
       "      <th>liveness</th>\n",
       "      <th>valence</th>\n",
       "      <th>tempo</th>\n",
       "      <th>duration_ms</th>\n",
       "    </tr>\n",
       "  </thead>\n",
       "  <tbody>\n",
       "    <tr>\n",
       "      <th>0</th>\n",
       "      <td>6f807x0ima9a1j3VPbc7VN</td>\n",
       "      <td>I Don't Care (with Justin Bieber) - Loud Luxur...</td>\n",
       "      <td>Ed Sheeran</td>\n",
       "      <td>66</td>\n",
       "      <td>2oCs0DGTsRO98Gh5ZSl2Cx</td>\n",
       "      <td>I Don't Care (with Justin Bieber) [Loud Luxury...</td>\n",
       "      <td>2019-06-14</td>\n",
       "      <td>Pop Remix</td>\n",
       "      <td>37i9dQZF1DXcZDD7cfEKhW</td>\n",
       "      <td>pop</td>\n",
       "      <td>...</td>\n",
       "      <td>6</td>\n",
       "      <td>-2.634</td>\n",
       "      <td>1</td>\n",
       "      <td>0.0583</td>\n",
       "      <td>0.1020</td>\n",
       "      <td>0.000000</td>\n",
       "      <td>0.0653</td>\n",
       "      <td>0.518</td>\n",
       "      <td>122.036</td>\n",
       "      <td>194754.0</td>\n",
       "    </tr>\n",
       "    <tr>\n",
       "      <th>1</th>\n",
       "      <td>0r7CVbZTWZgbTCYdfa2P31</td>\n",
       "      <td>Memories - Dillon Francis Remix</td>\n",
       "      <td>Maroon 5</td>\n",
       "      <td>67</td>\n",
       "      <td>63rPSO264uRjW1X5E6cWv6</td>\n",
       "      <td>Memories (Dillon Francis Remix)</td>\n",
       "      <td>2019-12-13</td>\n",
       "      <td>Pop Remix</td>\n",
       "      <td>37i9dQZF1DXcZDD7cfEKhW</td>\n",
       "      <td>pop</td>\n",
       "      <td>...</td>\n",
       "      <td>11</td>\n",
       "      <td>-4.969</td>\n",
       "      <td>1</td>\n",
       "      <td>0.0373</td>\n",
       "      <td>0.0724</td>\n",
       "      <td>0.004210</td>\n",
       "      <td>0.3570</td>\n",
       "      <td>0.693</td>\n",
       "      <td>99.972</td>\n",
       "      <td>162600.0</td>\n",
       "    </tr>\n",
       "    <tr>\n",
       "      <th>2</th>\n",
       "      <td>1z1Hg7Vb0AhHDiEmnDE79l</td>\n",
       "      <td>All the Time - Don Diablo Remix</td>\n",
       "      <td>Zara Larsson</td>\n",
       "      <td>70</td>\n",
       "      <td>1HoSmj2eLcsrR0vE9gThr4</td>\n",
       "      <td>All the Time (Don Diablo Remix)</td>\n",
       "      <td>2019-07-05</td>\n",
       "      <td>Pop Remix</td>\n",
       "      <td>37i9dQZF1DXcZDD7cfEKhW</td>\n",
       "      <td>pop</td>\n",
       "      <td>...</td>\n",
       "      <td>1</td>\n",
       "      <td>-3.432</td>\n",
       "      <td>0</td>\n",
       "      <td>0.0742</td>\n",
       "      <td>0.0794</td>\n",
       "      <td>0.000023</td>\n",
       "      <td>0.1100</td>\n",
       "      <td>0.613</td>\n",
       "      <td>124.008</td>\n",
       "      <td>176616.0</td>\n",
       "    </tr>\n",
       "    <tr>\n",
       "      <th>3</th>\n",
       "      <td>75FpbthrwQmzHlBJLuGdC7</td>\n",
       "      <td>Call You Mine - Keanu Silva Remix</td>\n",
       "      <td>The Chainsmokers</td>\n",
       "      <td>60</td>\n",
       "      <td>1nqYsOef1yKKuGOVchbsk6</td>\n",
       "      <td>Call You Mine - The Remixes</td>\n",
       "      <td>2019-07-19</td>\n",
       "      <td>Pop Remix</td>\n",
       "      <td>37i9dQZF1DXcZDD7cfEKhW</td>\n",
       "      <td>pop</td>\n",
       "      <td>...</td>\n",
       "      <td>7</td>\n",
       "      <td>-3.778</td>\n",
       "      <td>1</td>\n",
       "      <td>0.1020</td>\n",
       "      <td>0.0287</td>\n",
       "      <td>0.000009</td>\n",
       "      <td>0.2040</td>\n",
       "      <td>0.277</td>\n",
       "      <td>121.956</td>\n",
       "      <td>169093.0</td>\n",
       "    </tr>\n",
       "    <tr>\n",
       "      <th>4</th>\n",
       "      <td>1e8PAfcKUYoKkxPhrHqw4x</td>\n",
       "      <td>Someone You Loved - Future Humans Remix</td>\n",
       "      <td>Lewis Capaldi</td>\n",
       "      <td>69</td>\n",
       "      <td>7m7vv9wlQ4i0LFuJiE2zsQ</td>\n",
       "      <td>Someone You Loved (Future Humans Remix)</td>\n",
       "      <td>2019-03-05</td>\n",
       "      <td>Pop Remix</td>\n",
       "      <td>37i9dQZF1DXcZDD7cfEKhW</td>\n",
       "      <td>pop</td>\n",
       "      <td>...</td>\n",
       "      <td>1</td>\n",
       "      <td>-4.672</td>\n",
       "      <td>1</td>\n",
       "      <td>0.0359</td>\n",
       "      <td>0.0803</td>\n",
       "      <td>0.000000</td>\n",
       "      <td>0.0833</td>\n",
       "      <td>0.725</td>\n",
       "      <td>123.976</td>\n",
       "      <td>189052.0</td>\n",
       "    </tr>\n",
       "    <tr>\n",
       "      <th>5</th>\n",
       "      <td>7fvUMiyapMsRRxr07cU8Ef</td>\n",
       "      <td>Beautiful People (feat. Khalid) - Jack Wins Remix</td>\n",
       "      <td>Ed Sheeran</td>\n",
       "      <td>67</td>\n",
       "      <td>2yiy9cd2QktrNvWC2EUi0k</td>\n",
       "      <td>Beautiful People (feat. Khalid) [Jack Wins Remix]</td>\n",
       "      <td>2019-07-11</td>\n",
       "      <td>Pop Remix</td>\n",
       "      <td>37i9dQZF1DXcZDD7cfEKhW</td>\n",
       "      <td>pop</td>\n",
       "      <td>...</td>\n",
       "      <td>8</td>\n",
       "      <td>-5.385</td>\n",
       "      <td>1</td>\n",
       "      <td>0.1270</td>\n",
       "      <td>0.0799</td>\n",
       "      <td>0.000000</td>\n",
       "      <td>0.1430</td>\n",
       "      <td>0.585</td>\n",
       "      <td>124.982</td>\n",
       "      <td>163049.0</td>\n",
       "    </tr>\n",
       "    <tr>\n",
       "      <th>6</th>\n",
       "      <td>2OAylPUDDfwRGfe0lYqlCQ</td>\n",
       "      <td>Never Really Over - R3HAB Remix</td>\n",
       "      <td>Katy Perry</td>\n",
       "      <td>62</td>\n",
       "      <td>7INHYSeusaFlyrHSNxm8qH</td>\n",
       "      <td>Never Really Over (R3HAB Remix)</td>\n",
       "      <td>2019-07-26</td>\n",
       "      <td>Pop Remix</td>\n",
       "      <td>37i9dQZF1DXcZDD7cfEKhW</td>\n",
       "      <td>pop</td>\n",
       "      <td>...</td>\n",
       "      <td>5</td>\n",
       "      <td>-4.788</td>\n",
       "      <td>0</td>\n",
       "      <td>0.0623</td>\n",
       "      <td>0.1870</td>\n",
       "      <td>0.000000</td>\n",
       "      <td>0.1760</td>\n",
       "      <td>0.152</td>\n",
       "      <td>112.648</td>\n",
       "      <td>187675.0</td>\n",
       "    </tr>\n",
       "    <tr>\n",
       "      <th>7</th>\n",
       "      <td>6b1RNvAcJjQH73eZO4BLAB</td>\n",
       "      <td>Post Malone (feat. RANI) - GATTÜSO Remix</td>\n",
       "      <td>Sam Feldt</td>\n",
       "      <td>69</td>\n",
       "      <td>6703SRPsLkS4bPtMFFJes1</td>\n",
       "      <td>Post Malone (feat. RANI) [GATTÜSO Remix]</td>\n",
       "      <td>2019-08-29</td>\n",
       "      <td>Pop Remix</td>\n",
       "      <td>37i9dQZF1DXcZDD7cfEKhW</td>\n",
       "      <td>pop</td>\n",
       "      <td>...</td>\n",
       "      <td>4</td>\n",
       "      <td>-2.419</td>\n",
       "      <td>0</td>\n",
       "      <td>0.0434</td>\n",
       "      <td>0.0335</td>\n",
       "      <td>0.000005</td>\n",
       "      <td>0.1110</td>\n",
       "      <td>0.367</td>\n",
       "      <td>127.936</td>\n",
       "      <td>207619.0</td>\n",
       "    </tr>\n",
       "    <tr>\n",
       "      <th>8</th>\n",
       "      <td>7bF6tCO3gFb8INrEDcjNT5</td>\n",
       "      <td>Tough Love - Tiësto Remix / Radio Edit</td>\n",
       "      <td>Avicii</td>\n",
       "      <td>68</td>\n",
       "      <td>7CvAfGvq4RlIwEbT9o8Iav</td>\n",
       "      <td>Tough Love (Tiësto Remix)</td>\n",
       "      <td>2019-06-14</td>\n",
       "      <td>Pop Remix</td>\n",
       "      <td>37i9dQZF1DXcZDD7cfEKhW</td>\n",
       "      <td>pop</td>\n",
       "      <td>...</td>\n",
       "      <td>8</td>\n",
       "      <td>-3.562</td>\n",
       "      <td>1</td>\n",
       "      <td>0.0565</td>\n",
       "      <td>0.0249</td>\n",
       "      <td>0.000004</td>\n",
       "      <td>0.6370</td>\n",
       "      <td>0.366</td>\n",
       "      <td>127.015</td>\n",
       "      <td>193187.0</td>\n",
       "    </tr>\n",
       "    <tr>\n",
       "      <th>9</th>\n",
       "      <td>1IXGILkPm0tOCNeq00kCPa</td>\n",
       "      <td>If I Can't Have You - Gryffin Remix</td>\n",
       "      <td>Shawn Mendes</td>\n",
       "      <td>67</td>\n",
       "      <td>4QxzbfSsVryEQwvPFEV5Iu</td>\n",
       "      <td>If I Can't Have You (Gryffin Remix)</td>\n",
       "      <td>2019-06-20</td>\n",
       "      <td>Pop Remix</td>\n",
       "      <td>37i9dQZF1DXcZDD7cfEKhW</td>\n",
       "      <td>pop</td>\n",
       "      <td>...</td>\n",
       "      <td>2</td>\n",
       "      <td>-4.552</td>\n",
       "      <td>1</td>\n",
       "      <td>0.0320</td>\n",
       "      <td>0.0567</td>\n",
       "      <td>0.000000</td>\n",
       "      <td>0.0919</td>\n",
       "      <td>0.590</td>\n",
       "      <td>124.957</td>\n",
       "      <td>253040.0</td>\n",
       "    </tr>\n",
       "  </tbody>\n",
       "</table>\n",
       "<p>10 rows × 23 columns</p>\n",
       "</div>"
      ],
      "text/plain": [
       "                 track_id                                         track_name  \\\n",
       "0  6f807x0ima9a1j3VPbc7VN  I Don't Care (with Justin Bieber) - Loud Luxur...   \n",
       "1  0r7CVbZTWZgbTCYdfa2P31                    Memories - Dillon Francis Remix   \n",
       "2  1z1Hg7Vb0AhHDiEmnDE79l                    All the Time - Don Diablo Remix   \n",
       "3  75FpbthrwQmzHlBJLuGdC7                  Call You Mine - Keanu Silva Remix   \n",
       "4  1e8PAfcKUYoKkxPhrHqw4x            Someone You Loved - Future Humans Remix   \n",
       "5  7fvUMiyapMsRRxr07cU8Ef  Beautiful People (feat. Khalid) - Jack Wins Remix   \n",
       "6  2OAylPUDDfwRGfe0lYqlCQ                    Never Really Over - R3HAB Remix   \n",
       "7  6b1RNvAcJjQH73eZO4BLAB           Post Malone (feat. RANI) - GATTÜSO Remix   \n",
       "8  7bF6tCO3gFb8INrEDcjNT5             Tough Love - Tiësto Remix / Radio Edit   \n",
       "9  1IXGILkPm0tOCNeq00kCPa                If I Can't Have You - Gryffin Remix   \n",
       "\n",
       "       track_artist  track_popularity          track_album_id  \\\n",
       "0        Ed Sheeran                66  2oCs0DGTsRO98Gh5ZSl2Cx   \n",
       "1          Maroon 5                67  63rPSO264uRjW1X5E6cWv6   \n",
       "2      Zara Larsson                70  1HoSmj2eLcsrR0vE9gThr4   \n",
       "3  The Chainsmokers                60  1nqYsOef1yKKuGOVchbsk6   \n",
       "4     Lewis Capaldi                69  7m7vv9wlQ4i0LFuJiE2zsQ   \n",
       "5        Ed Sheeran                67  2yiy9cd2QktrNvWC2EUi0k   \n",
       "6        Katy Perry                62  7INHYSeusaFlyrHSNxm8qH   \n",
       "7         Sam Feldt                69  6703SRPsLkS4bPtMFFJes1   \n",
       "8            Avicii                68  7CvAfGvq4RlIwEbT9o8Iav   \n",
       "9      Shawn Mendes                67  4QxzbfSsVryEQwvPFEV5Iu   \n",
       "\n",
       "                                    track_album_name track_album_release_date  \\\n",
       "0  I Don't Care (with Justin Bieber) [Loud Luxury...               2019-06-14   \n",
       "1                    Memories (Dillon Francis Remix)               2019-12-13   \n",
       "2                    All the Time (Don Diablo Remix)               2019-07-05   \n",
       "3                        Call You Mine - The Remixes               2019-07-19   \n",
       "4            Someone You Loved (Future Humans Remix)               2019-03-05   \n",
       "5  Beautiful People (feat. Khalid) [Jack Wins Remix]               2019-07-11   \n",
       "6                    Never Really Over (R3HAB Remix)               2019-07-26   \n",
       "7           Post Malone (feat. RANI) [GATTÜSO Remix]               2019-08-29   \n",
       "8                          Tough Love (Tiësto Remix)               2019-06-14   \n",
       "9                If I Can't Have You (Gryffin Remix)               2019-06-20   \n",
       "\n",
       "  playlist_name             playlist_id playlist_genre  ... key loudness mode  \\\n",
       "0     Pop Remix  37i9dQZF1DXcZDD7cfEKhW            pop  ...   6   -2.634    1   \n",
       "1     Pop Remix  37i9dQZF1DXcZDD7cfEKhW            pop  ...  11   -4.969    1   \n",
       "2     Pop Remix  37i9dQZF1DXcZDD7cfEKhW            pop  ...   1   -3.432    0   \n",
       "3     Pop Remix  37i9dQZF1DXcZDD7cfEKhW            pop  ...   7   -3.778    1   \n",
       "4     Pop Remix  37i9dQZF1DXcZDD7cfEKhW            pop  ...   1   -4.672    1   \n",
       "5     Pop Remix  37i9dQZF1DXcZDD7cfEKhW            pop  ...   8   -5.385    1   \n",
       "6     Pop Remix  37i9dQZF1DXcZDD7cfEKhW            pop  ...   5   -4.788    0   \n",
       "7     Pop Remix  37i9dQZF1DXcZDD7cfEKhW            pop  ...   4   -2.419    0   \n",
       "8     Pop Remix  37i9dQZF1DXcZDD7cfEKhW            pop  ...   8   -3.562    1   \n",
       "9     Pop Remix  37i9dQZF1DXcZDD7cfEKhW            pop  ...   2   -4.552    1   \n",
       "\n",
       "  speechiness acousticness instrumentalness  liveness  valence    tempo  \\\n",
       "0      0.0583       0.1020         0.000000    0.0653    0.518  122.036   \n",
       "1      0.0373       0.0724         0.004210    0.3570    0.693   99.972   \n",
       "2      0.0742       0.0794         0.000023    0.1100    0.613  124.008   \n",
       "3      0.1020       0.0287         0.000009    0.2040    0.277  121.956   \n",
       "4      0.0359       0.0803         0.000000    0.0833    0.725  123.976   \n",
       "5      0.1270       0.0799         0.000000    0.1430    0.585  124.982   \n",
       "6      0.0623       0.1870         0.000000    0.1760    0.152  112.648   \n",
       "7      0.0434       0.0335         0.000005    0.1110    0.367  127.936   \n",
       "8      0.0565       0.0249         0.000004    0.6370    0.366  127.015   \n",
       "9      0.0320       0.0567         0.000000    0.0919    0.590  124.957   \n",
       "\n",
       "   duration_ms  \n",
       "0     194754.0  \n",
       "1     162600.0  \n",
       "2     176616.0  \n",
       "3     169093.0  \n",
       "4     189052.0  \n",
       "5     163049.0  \n",
       "6     187675.0  \n",
       "7     207619.0  \n",
       "8     193187.0  \n",
       "9     253040.0  \n",
       "\n",
       "[10 rows x 23 columns]"
      ]
     },
     "execution_count": 5,
     "metadata": {},
     "output_type": "execute_result"
    }
   ],
   "source": [
    "df.toPandas().head(10)"
   ]
  },
  {
   "cell_type": "markdown",
   "metadata": {
    "application/vnd.databricks.v1+cell": {
     "cellMetadata": {
      "byteLimit": 2048000,
      "rowLimit": 10000
     },
     "inputWidgets": {},
     "nuid": "07ea9a41-490a-42dc-ac79-956895ab2741",
     "showTitle": false,
     "title": ""
    },
    "collapsed": false,
    "jupyter": {
     "outputs_hidden": false
    }
   },
   "source": [
    "### Descriptive statistics"
   ]
  },
  {
   "cell_type": "markdown",
   "metadata": {
    "application/vnd.databricks.v1+cell": {
     "cellMetadata": {
      "byteLimit": 2048000,
      "rowLimit": 10000
     },
     "inputWidgets": {},
     "nuid": "f3f99a79-53f4-4fc6-b188-07bcb82daebd",
     "showTitle": false,
     "title": ""
    },
    "collapsed": false,
    "jupyter": {
     "outputs_hidden": false
    }
   },
   "source": [
    "#### Exercise 1.B"
   ]
  },
  {
   "cell_type": "markdown",
   "metadata": {
    "application/vnd.databricks.v1+cell": {
     "cellMetadata": {
      "byteLimit": 2048000,
      "rowLimit": 10000
     },
     "inputWidgets": {},
     "nuid": "3d09afeb-4121-4dc8-95e8-6fd3926dd6ac",
     "showTitle": false,
     "title": ""
    },
    "collapsed": false,
    "jupyter": {
     "outputs_hidden": false
    }
   },
   "source": [
    "Calculate descriptive statistics for 'track_popularity' and 'duration_ms'  (see https://spark.apache.org/docs/1.6.1/api/java/org/apache/spark/sql/DataFrame.html#describe(scala.collection.Seq))"
   ]
  },
  {
   "cell_type": "code",
   "execution_count": 6,
   "metadata": {
    "ExecuteTime": {
     "end_time": "2023-11-17T00:29:00.440477Z",
     "start_time": "2023-11-17T00:29:00.434884Z"
    },
    "application/vnd.databricks.v1+cell": {
     "cellMetadata": {
      "byteLimit": 2048000,
      "rowLimit": 10000
     },
     "inputWidgets": {},
     "nuid": "34519038-51a8-4189-83c2-fe2b5be8c444",
     "showTitle": false,
     "title": ""
    },
    "collapsed": false,
    "jupyter": {
     "outputs_hidden": false
    }
   },
   "outputs": [
    {
     "name": "stdout",
     "output_type": "stream",
     "text": [
      "+-------+------------------+------------------+\n",
      "|summary|  track_popularity|       duration_ms|\n",
      "+-------+------------------+------------------+\n",
      "|  count|             32833|             32833|\n",
      "|   mean|42.477080985593766|225681.46748989128|\n",
      "| stddev|24.984074486186927|  59936.5636225785|\n",
      "|    min|                 0|            0.0116|\n",
      "|    max|               100|          517810.0|\n",
      "+-------+------------------+------------------+\n",
      "\n"
     ]
    }
   ],
   "source": [
    "df.describe('track_popularity', 'duration_ms').show()"
   ]
  },
  {
   "cell_type": "markdown",
   "metadata": {
    "application/vnd.databricks.v1+cell": {
     "cellMetadata": {
      "byteLimit": 2048000,
      "rowLimit": 10000
     },
     "inputWidgets": {},
     "nuid": "341b7307-a7df-4736-b92e-09af98f03170",
     "showTitle": false,
     "title": ""
    },
    "collapsed": false,
    "jupyter": {
     "outputs_hidden": false
    }
   },
   "source": [
    "#### Exercise 1.C"
   ]
  },
  {
   "cell_type": "markdown",
   "metadata": {
    "application/vnd.databricks.v1+cell": {
     "cellMetadata": {
      "byteLimit": 2048000,
      "rowLimit": 10000
     },
     "inputWidgets": {},
     "nuid": "db6f4aaa-a557-48b7-8ac9-26297d9e782f",
     "showTitle": false,
     "title": ""
    },
    "collapsed": false,
    "jupyter": {
     "outputs_hidden": false
    }
   },
   "source": [
    "Check if 'track_popularity' and 'duration_ms' have normal distribution (see http://spark.apache.org/docs/latest/api/java/org/apache/spark/ml/stat/KolmogorovSmirnovTest.html)."
   ]
  },
  {
   "cell_type": "code",
   "execution_count": 7,
   "metadata": {
    "ExecuteTime": {
     "end_time": "2023-11-17T00:29:06.623349Z",
     "start_time": "2023-11-17T00:29:06.617524Z"
    },
    "application/vnd.databricks.v1+cell": {
     "cellMetadata": {
      "byteLimit": 2048000,
      "rowLimit": 10000
     },
     "inputWidgets": {},
     "nuid": "648e89e6-a38d-4500-937e-4629ce68b2c5",
     "showTitle": false,
     "title": ""
    },
    "collapsed": false,
    "jupyter": {
     "outputs_hidden": false
    }
   },
   "outputs": [
    {
     "data": {
      "text/plain": [
       "Row(pValue=3.608127130405592e-10, statistic=0.4728685961004639)"
      ]
     },
     "execution_count": 7,
     "metadata": {},
     "output_type": "execute_result"
    }
   ],
   "source": [
    "from pyspark.ml.stat import Correlation, KolmogorovSmirnovTest\n",
    "import math\n",
    "\n",
    "df = df.withColumn(\"track_popularity\", F.col(\"track_popularity\").cast(\"double\"))\\\n",
    "          .withColumn(\"duration_ms\", F.col(\"duration_ms\").cast(\"double\"))\n",
    "\n",
    "KolmogorovSmirnovTest.test(df, 'track_popularity', 'norm', 42.47, math.pow(24.98, 2)).first()\n"
   ]
  },
  {
   "cell_type": "code",
   "execution_count": 8,
   "metadata": {
    "application/vnd.databricks.v1+cell": {
     "cellMetadata": {
      "byteLimit": 2048000,
      "rowLimit": 10000
     },
     "inputWidgets": {},
     "nuid": "ffadc4b8-490f-4b5d-b34e-fc8b938cb7a0",
     "showTitle": false,
     "title": ""
    }
   },
   "outputs": [
    {
     "data": {
      "text/plain": [
       "Row(pValue=3.453418662147101e-10, statistic=0.4999749376206599)"
      ]
     },
     "execution_count": 8,
     "metadata": {},
     "output_type": "execute_result"
    }
   ],
   "source": [
    "KolmogorovSmirnovTest.test(df, 'duration_ms', 'norm', 225681.46, math.pow(59936.56, 2)).first()"
   ]
  },
  {
   "cell_type": "markdown",
   "metadata": {
    "application/vnd.databricks.v1+cell": {
     "cellMetadata": {
      "byteLimit": 2048000,
      "rowLimit": 10000
     },
     "inputWidgets": {},
     "nuid": "2e64eb09-8471-41b8-ae13-401aee86cfc5",
     "showTitle": false,
     "title": ""
    },
    "collapsed": false,
    "jupyter": {
     "outputs_hidden": false
    }
   },
   "source": [
    "#### Exercise 1.D"
   ]
  },
  {
   "cell_type": "markdown",
   "metadata": {
    "application/vnd.databricks.v1+cell": {
     "cellMetadata": {
      "byteLimit": 2048000,
      "rowLimit": 10000
     },
     "inputWidgets": {},
     "nuid": "328f4e19-e325-4c11-b9cf-0bd29d719fd6",
     "showTitle": false,
     "title": ""
    },
    "collapsed": false,
    "jupyter": {
     "outputs_hidden": false
    }
   },
   "source": [
    "Create correlation matrix between numeric values in the dataset. Which correlation is the strongest? Use the following, preprocessing function."
   ]
  },
  {
   "cell_type": "code",
   "execution_count": 9,
   "metadata": {
    "ExecuteTime": {
     "end_time": "2023-11-17T00:29:10.504366Z",
     "start_time": "2023-11-17T00:29:10.497318Z"
    },
    "application/vnd.databricks.v1+cell": {
     "cellMetadata": {
      "byteLimit": 2048000,
      "rowLimit": 10000
     },
     "inputWidgets": {},
     "nuid": "43e9a0f8-935a-4d12-a6bb-d47c0be6be2f",
     "showTitle": false,
     "title": ""
    },
    "collapsed": false,
    "jupyter": {
     "outputs_hidden": false
    }
   },
   "outputs": [],
   "source": [
    "def preprocess_dataset(dataset):\n",
    "    return (dataset\n",
    "                .drop(\"track_id\", \"track_name\", \"track_artist\", \"track_album_id\", \"track_album_name\", \"track_album_release_date\", \"playlist_name\", \"playlist_id\", \"playlist_genre\", \"playlist_subgenre\", \"key\")\n",
    "                .withColumn(\"danceability\", F.col(\"danceability\").cast('double'))\n",
    "                .withColumn(\"energy\", F.col(\"energy\").cast('double'))\n",
    "                .withColumn(\"mode\", F.col(\"mode\").cast('double'))\n",
    "                .withColumn(\"loudness\", F.col(\"loudness\").cast('double'))\n",
    "                .withColumn(\"speechiness\", F.col(\"speechiness\").cast('double'))\n",
    "                .withColumn(\"acousticness\", F.col(\"acousticness\").cast('double'))\n",
    "                .withColumn(\"liveness\", F.col(\"liveness\").cast('double'))\n",
    "                .withColumn(\"valence\", F.col(\"valence\").cast('double'))\n",
    "                .withColumn(\"tempo\", F.col(\"tempo\").cast('double'))\n",
    "                .withColumn(\"duration_ms\", F.col(\"duration_ms\").cast('double'))\n",
    "                .withColumn(\"instrumentalness\", F.col(\"instrumentalness\").cast('double'))\n",
    "            )"
   ]
  },
  {
   "cell_type": "code",
   "execution_count": 10,
   "metadata": {
    "ExecuteTime": {
     "end_time": "2023-11-17T00:29:11.042261Z",
     "start_time": "2023-11-17T00:29:11.033797Z"
    },
    "application/vnd.databricks.v1+cell": {
     "cellMetadata": {
      "byteLimit": 2048000,
      "rowLimit": 10000
     },
     "inputWidgets": {},
     "nuid": "b4fb02d5-886e-40ef-9292-ba074ae99d09",
     "showTitle": false,
     "title": ""
    },
    "collapsed": false,
    "jupyter": {
     "outputs_hidden": false
    }
   },
   "outputs": [
    {
     "name": "stdout",
     "output_type": "stream",
     "text": [
      "+----------------+------------+------+--------+----+-----------+------------+----------------+--------+-------+-------+-----------+\n",
      "|track_popularity|danceability|energy|loudness|mode|speechiness|acousticness|instrumentalness|liveness|valence|  tempo|duration_ms|\n",
      "+----------------+------------+------+--------+----+-----------+------------+----------------+--------+-------+-------+-----------+\n",
      "|            66.0|       0.748| 0.916|  -2.634| 1.0|     0.0583|       0.102|             0.0|  0.0653|  0.518|122.036|   194754.0|\n",
      "|            67.0|       0.726| 0.815|  -4.969| 1.0|     0.0373|      0.0724|         0.00421|   0.357|  0.693| 99.972|   162600.0|\n",
      "|            70.0|       0.675| 0.931|  -3.432| 0.0|     0.0742|      0.0794|         2.33E-5|    0.11|  0.613|124.008|   176616.0|\n",
      "+----------------+------------+------+--------+----+-----------+------------+----------------+--------+-------+-------+-----------+\n",
      "only showing top 3 rows\n",
      "\n"
     ]
    }
   ],
   "source": [
    "new_df = preprocess_dataset(df)\n",
    "new_df.show(3)"
   ]
  },
  {
   "cell_type": "code",
   "execution_count": 43,
   "metadata": {
    "application/vnd.databricks.v1+cell": {
     "cellMetadata": {
      "byteLimit": 2048000,
      "rowLimit": 10000
     },
     "inputWidgets": {},
     "nuid": "57c09c4c-2376-4034-8e54-eff2f62e26de",
     "showTitle": false,
     "title": ""
    }
   },
   "outputs": [
    {
     "data": {
      "text/html": [
       "<style type=\"text/css\">\n",
       "#T_c7019_row0_col0, #T_c7019_row1_col1, #T_c7019_row2_col2, #T_c7019_row3_col3, #T_c7019_row4_col4, #T_c7019_row5_col5, #T_c7019_row6_col6, #T_c7019_row7_col7, #T_c7019_row8_col8, #T_c7019_row9_col9, #T_c7019_row10_col10, #T_c7019_row11_col11 {\n",
       "  background-color: #b40426;\n",
       "  color: #f1f1f1;\n",
       "}\n",
       "#T_c7019_row0_col1 {\n",
       "  background-color: #7ea1fa;\n",
       "  color: #f1f1f1;\n",
       "}\n",
       "#T_c7019_row0_col2, #T_c7019_row2_col9, #T_c7019_row10_col6 {\n",
       "  background-color: #97b8ff;\n",
       "  color: #000000;\n",
       "}\n",
       "#T_c7019_row0_col3, #T_c7019_row9_col3 {\n",
       "  background-color: #a1c0ff;\n",
       "  color: #000000;\n",
       "}\n",
       "#T_c7019_row0_col4, #T_c7019_row6_col4 {\n",
       "  background-color: #4f69d9;\n",
       "  color: #f1f1f1;\n",
       "}\n",
       "#T_c7019_row0_col5 {\n",
       "  background-color: #5977e3;\n",
       "  color: #f1f1f1;\n",
       "}\n",
       "#T_c7019_row0_col6 {\n",
       "  background-color: #c1d4f4;\n",
       "  color: #000000;\n",
       "}\n",
       "#T_c7019_row0_col7, #T_c7019_row3_col7 {\n",
       "  background-color: #4055c8;\n",
       "  color: #f1f1f1;\n",
       "}\n",
       "#T_c7019_row0_col8, #T_c7019_row5_col7, #T_c7019_row6_col10, #T_c7019_row9_col4 {\n",
       "  background-color: #4c66d6;\n",
       "  color: #f1f1f1;\n",
       "}\n",
       "#T_c7019_row0_col9, #T_c7019_row2_col7, #T_c7019_row3_col1, #T_c7019_row3_col8 {\n",
       "  background-color: #7396f5;\n",
       "  color: #f1f1f1;\n",
       "}\n",
       "#T_c7019_row0_col10, #T_c7019_row4_col9, #T_c7019_row7_col1, #T_c7019_row9_col5 {\n",
       "  background-color: #6a8bef;\n",
       "  color: #f1f1f1;\n",
       "}\n",
       "#T_c7019_row0_col11, #T_c7019_row1_col8, #T_c7019_row1_col10, #T_c7019_row2_col6, #T_c7019_row5_col4, #T_c7019_row6_col2, #T_c7019_row6_col3, #T_c7019_row7_col0, #T_c7019_row7_col5, #T_c7019_row7_col9, #T_c7019_row9_col7, #T_c7019_row10_col1 {\n",
       "  background-color: #3b4cc0;\n",
       "  color: #f1f1f1;\n",
       "}\n",
       "#T_c7019_row1_col0 {\n",
       "  background-color: #7699f6;\n",
       "  color: #f1f1f1;\n",
       "}\n",
       "#T_c7019_row1_col2 {\n",
       "  background-color: #9dbdff;\n",
       "  color: #000000;\n",
       "}\n",
       "#T_c7019_row1_col3, #T_c7019_row2_col10 {\n",
       "  background-color: #98b9ff;\n",
       "  color: #000000;\n",
       "}\n",
       "#T_c7019_row1_col4, #T_c7019_row11_col0 {\n",
       "  background-color: #3c4ec2;\n",
       "  color: #f1f1f1;\n",
       "}\n",
       "#T_c7019_row1_col5 {\n",
       "  background-color: #90b2fe;\n",
       "  color: #000000;\n",
       "}\n",
       "#T_c7019_row1_col6, #T_c7019_row10_col3 {\n",
       "  background-color: #aac7fd;\n",
       "  color: #000000;\n",
       "}\n",
       "#T_c7019_row1_col7, #T_c7019_row4_col7, #T_c7019_row6_col7, #T_c7019_row8_col5 {\n",
       "  background-color: #6788ee;\n",
       "  color: #f1f1f1;\n",
       "}\n",
       "#T_c7019_row1_col9 {\n",
       "  background-color: #cad8ef;\n",
       "  color: #000000;\n",
       "}\n",
       "#T_c7019_row1_col11, #T_c7019_row3_col4, #T_c7019_row6_col8 {\n",
       "  background-color: #465ecf;\n",
       "  color: #f1f1f1;\n",
       "}\n",
       "#T_c7019_row2_col0 {\n",
       "  background-color: #445acc;\n",
       "  color: #f1f1f1;\n",
       "}\n",
       "#T_c7019_row2_col1, #T_c7019_row8_col0 {\n",
       "  background-color: #5470de;\n",
       "  color: #f1f1f1;\n",
       "}\n",
       "#T_c7019_row2_col3 {\n",
       "  background-color: #f39475;\n",
       "  color: #000000;\n",
       "}\n",
       "#T_c7019_row2_col4, #T_c7019_row8_col4 {\n",
       "  background-color: #4b64d5;\n",
       "  color: #f1f1f1;\n",
       "}\n",
       "#T_c7019_row2_col5 {\n",
       "  background-color: #4e68d8;\n",
       "  color: #f1f1f1;\n",
       "}\n",
       "#T_c7019_row2_col8, #T_c7019_row4_col3 {\n",
       "  background-color: #8db0fe;\n",
       "  color: #000000;\n",
       "}\n",
       "#T_c7019_row2_col11, #T_c7019_row4_col0, #T_c7019_row4_col11 {\n",
       "  background-color: #6687ed;\n",
       "  color: #f1f1f1;\n",
       "}\n",
       "#T_c7019_row3_col0, #T_c7019_row7_col11, #T_c7019_row11_col3 {\n",
       "  background-color: #7597f6;\n",
       "  color: #f1f1f1;\n",
       "}\n",
       "#T_c7019_row3_col2 {\n",
       "  background-color: #ef886b;\n",
       "  color: #f1f1f1;\n",
       "}\n",
       "#T_c7019_row3_col5, #T_c7019_row4_col8, #T_c7019_row7_col8 {\n",
       "  background-color: #5a78e4;\n",
       "  color: #f1f1f1;\n",
       "}\n",
       "#T_c7019_row3_col6, #T_c7019_row11_col8 {\n",
       "  background-color: #5e7de7;\n",
       "  color: #f1f1f1;\n",
       "}\n",
       "#T_c7019_row3_col9, #T_c7019_row5_col10 {\n",
       "  background-color: #799cf8;\n",
       "  color: #f1f1f1;\n",
       "}\n",
       "#T_c7019_row3_col10 {\n",
       "  background-color: #88abfd;\n",
       "  color: #000000;\n",
       "}\n",
       "#T_c7019_row3_col11 {\n",
       "  background-color: #4257c9;\n",
       "  color: #f1f1f1;\n",
       "}\n",
       "#T_c7019_row4_col1 {\n",
       "  background-color: #5b7ae5;\n",
       "  color: #f1f1f1;\n",
       "}\n",
       "#T_c7019_row4_col2, #T_c7019_row7_col6 {\n",
       "  background-color: #aec9fc;\n",
       "  color: #000000;\n",
       "}\n",
       "#T_c7019_row4_col5 {\n",
       "  background-color: #455cce;\n",
       "  color: #f1f1f1;\n",
       "}\n",
       "#T_c7019_row4_col6 {\n",
       "  background-color: #b2ccfb;\n",
       "  color: #000000;\n",
       "}\n",
       "#T_c7019_row4_col10 {\n",
       "  background-color: #6f92f3;\n",
       "  color: #f1f1f1;\n",
       "}\n",
       "#T_c7019_row5_col0, #T_c7019_row6_col1, #T_c7019_row6_col9, #T_c7019_row9_col10, #T_c7019_row10_col5 {\n",
       "  background-color: #6485ec;\n",
       "  color: #f1f1f1;\n",
       "}\n",
       "#T_c7019_row5_col1 {\n",
       "  background-color: #a2c1ff;\n",
       "  color: #000000;\n",
       "}\n",
       "#T_c7019_row5_col2 {\n",
       "  background-color: #a9c6fd;\n",
       "  color: #000000;\n",
       "}\n",
       "#T_c7019_row5_col3 {\n",
       "  background-color: #94b6ff;\n",
       "  color: #000000;\n",
       "}\n",
       "#T_c7019_row5_col6 {\n",
       "  background-color: #b6cefa;\n",
       "  color: #000000;\n",
       "}\n",
       "#T_c7019_row5_col8, #T_c7019_row7_col3, #T_c7019_row9_col0 {\n",
       "  background-color: #6c8ff1;\n",
       "  color: #f1f1f1;\n",
       "}\n",
       "#T_c7019_row5_col9, #T_c7019_row6_col0 {\n",
       "  background-color: #7da0f9;\n",
       "  color: #f1f1f1;\n",
       "}\n",
       "#T_c7019_row5_col11 {\n",
       "  background-color: #4961d2;\n",
       "  color: #f1f1f1;\n",
       "}\n",
       "#T_c7019_row6_col5 {\n",
       "  background-color: #5f7fe8;\n",
       "  color: #f1f1f1;\n",
       "}\n",
       "#T_c7019_row6_col11, #T_c7019_row7_col4, #T_c7019_row8_col1 {\n",
       "  background-color: #4a63d3;\n",
       "  color: #f1f1f1;\n",
       "}\n",
       "#T_c7019_row7_col2 {\n",
       "  background-color: #b7cff9;\n",
       "  color: #000000;\n",
       "}\n",
       "#T_c7019_row7_col10, #T_c7019_row8_col10 {\n",
       "  background-color: #7295f4;\n",
       "  color: #f1f1f1;\n",
       "}\n",
       "#T_c7019_row8_col2 {\n",
       "  background-color: #d1dae9;\n",
       "  color: #000000;\n",
       "}\n",
       "#T_c7019_row8_col3 {\n",
       "  background-color: #a6c4fe;\n",
       "  color: #000000;\n",
       "}\n",
       "#T_c7019_row8_col6, #T_c7019_row11_col6 {\n",
       "  background-color: #9ebeff;\n",
       "  color: #000000;\n",
       "}\n",
       "#T_c7019_row8_col7 {\n",
       "  background-color: #688aef;\n",
       "  color: #f1f1f1;\n",
       "}\n",
       "#T_c7019_row8_col9, #T_c7019_row8_col11, #T_c7019_row10_col8 {\n",
       "  background-color: #6384eb;\n",
       "  color: #f1f1f1;\n",
       "}\n",
       "#T_c7019_row9_col1 {\n",
       "  background-color: #cbd8ee;\n",
       "  color: #000000;\n",
       "}\n",
       "#T_c7019_row9_col2, #T_c7019_row10_col2 {\n",
       "  background-color: #cedaeb;\n",
       "  color: #000000;\n",
       "}\n",
       "#T_c7019_row9_col6 {\n",
       "  background-color: #abc8fd;\n",
       "  color: #000000;\n",
       "}\n",
       "#T_c7019_row9_col8 {\n",
       "  background-color: #5673e0;\n",
       "  color: #f1f1f1;\n",
       "}\n",
       "#T_c7019_row9_col11 {\n",
       "  background-color: #5875e1;\n",
       "  color: #f1f1f1;\n",
       "}\n",
       "#T_c7019_row10_col0, #T_c7019_row10_col9 {\n",
       "  background-color: #6282ea;\n",
       "  color: #f1f1f1;\n",
       "}\n",
       "#T_c7019_row10_col4, #T_c7019_row11_col1 {\n",
       "  background-color: #506bda;\n",
       "  color: #f1f1f1;\n",
       "}\n",
       "#T_c7019_row10_col7 {\n",
       "  background-color: #7093f3;\n",
       "  color: #f1f1f1;\n",
       "}\n",
       "#T_c7019_row10_col11, #T_c7019_row11_col9 {\n",
       "  background-color: #6180e9;\n",
       "  color: #f1f1f1;\n",
       "}\n",
       "#T_c7019_row11_col2 {\n",
       "  background-color: #b3cdfb;\n",
       "  color: #000000;\n",
       "}\n",
       "#T_c7019_row11_col4 {\n",
       "  background-color: #516ddb;\n",
       "  color: #f1f1f1;\n",
       "}\n",
       "#T_c7019_row11_col5 {\n",
       "  background-color: #3e51c5;\n",
       "  color: #f1f1f1;\n",
       "}\n",
       "#T_c7019_row11_col7 {\n",
       "  background-color: #7b9ff9;\n",
       "  color: #f1f1f1;\n",
       "}\n",
       "#T_c7019_row11_col10 {\n",
       "  background-color: #6b8df0;\n",
       "  color: #f1f1f1;\n",
       "}\n",
       "</style>\n",
       "<table id=\"T_c7019\">\n",
       "  <thead>\n",
       "    <tr>\n",
       "      <th class=\"blank level0\" >&nbsp;</th>\n",
       "      <th id=\"T_c7019_level0_col0\" class=\"col_heading level0 col0\" >track_popularity</th>\n",
       "      <th id=\"T_c7019_level0_col1\" class=\"col_heading level0 col1\" >danceability</th>\n",
       "      <th id=\"T_c7019_level0_col2\" class=\"col_heading level0 col2\" >energy</th>\n",
       "      <th id=\"T_c7019_level0_col3\" class=\"col_heading level0 col3\" >loudness</th>\n",
       "      <th id=\"T_c7019_level0_col4\" class=\"col_heading level0 col4\" >mode</th>\n",
       "      <th id=\"T_c7019_level0_col5\" class=\"col_heading level0 col5\" >speechiness</th>\n",
       "      <th id=\"T_c7019_level0_col6\" class=\"col_heading level0 col6\" >acousticness</th>\n",
       "      <th id=\"T_c7019_level0_col7\" class=\"col_heading level0 col7\" >instrumentalness</th>\n",
       "      <th id=\"T_c7019_level0_col8\" class=\"col_heading level0 col8\" >liveness</th>\n",
       "      <th id=\"T_c7019_level0_col9\" class=\"col_heading level0 col9\" >valence</th>\n",
       "      <th id=\"T_c7019_level0_col10\" class=\"col_heading level0 col10\" >tempo</th>\n",
       "      <th id=\"T_c7019_level0_col11\" class=\"col_heading level0 col11\" >duration_ms</th>\n",
       "    </tr>\n",
       "  </thead>\n",
       "  <tbody>\n",
       "    <tr>\n",
       "      <th id=\"T_c7019_level0_row0\" class=\"row_heading level0 row0\" >track_popularity</th>\n",
       "      <td id=\"T_c7019_row0_col0\" class=\"data row0 col0\" >1.000000</td>\n",
       "      <td id=\"T_c7019_row0_col1\" class=\"data row0 col1\" >0.064626</td>\n",
       "      <td id=\"T_c7019_row0_col2\" class=\"data row0 col2\" >-0.109767</td>\n",
       "      <td id=\"T_c7019_row0_col3\" class=\"data row0 col3\" >0.057266</td>\n",
       "      <td id=\"T_c7019_row0_col4\" class=\"data row0 col4\" >0.010634</td>\n",
       "      <td id=\"T_c7019_row0_col5\" class=\"data row0 col5\" >0.006769</td>\n",
       "      <td id=\"T_c7019_row0_col6\" class=\"data row0 col6\" >0.085303</td>\n",
       "      <td id=\"T_c7019_row0_col7\" class=\"data row0 col7\" >-0.149815</td>\n",
       "      <td id=\"T_c7019_row0_col8\" class=\"data row0 col8\" >-0.054809</td>\n",
       "      <td id=\"T_c7019_row0_col9\" class=\"data row0 col9\" >0.033090</td>\n",
       "      <td id=\"T_c7019_row0_col10\" class=\"data row0 col10\" >-0.005170</td>\n",
       "      <td id=\"T_c7019_row0_col11\" class=\"data row0 col11\" >-0.143218</td>\n",
       "    </tr>\n",
       "    <tr>\n",
       "      <th id=\"T_c7019_level0_row1\" class=\"row_heading level0 row1\" >danceability</th>\n",
       "      <td id=\"T_c7019_row1_col0\" class=\"data row1 col0\" >0.064626</td>\n",
       "      <td id=\"T_c7019_row1_col1\" class=\"data row1 col1\" >1.000000</td>\n",
       "      <td id=\"T_c7019_row1_col2\" class=\"data row1 col2\" >-0.086106</td>\n",
       "      <td id=\"T_c7019_row1_col3\" class=\"data row1 col3\" >0.025422</td>\n",
       "      <td id=\"T_c7019_row1_col4\" class=\"data row1 col4\" >-0.058946</td>\n",
       "      <td id=\"T_c7019_row1_col5\" class=\"data row1 col5\" >0.181375</td>\n",
       "      <td id=\"T_c7019_row1_col6\" class=\"data row1 col6\" >-0.024432</td>\n",
       "      <td id=\"T_c7019_row1_col7\" class=\"data row1 col7\" >-0.008501</td>\n",
       "      <td id=\"T_c7019_row1_col8\" class=\"data row1 col8\" >-0.123882</td>\n",
       "      <td id=\"T_c7019_row1_col9\" class=\"data row1 col9\" >0.330296</td>\n",
       "      <td id=\"T_c7019_row1_col10\" class=\"data row1 col10\" >-0.184358</td>\n",
       "      <td id=\"T_c7019_row1_col11\" class=\"data row1 col11\" >-0.096884</td>\n",
       "    </tr>\n",
       "    <tr>\n",
       "      <th id=\"T_c7019_level0_row2\" class=\"row_heading level0 row2\" >energy</th>\n",
       "      <td id=\"T_c7019_row2_col0\" class=\"data row2 col0\" >-0.109767</td>\n",
       "      <td id=\"T_c7019_row2_col1\" class=\"data row2 col1\" >-0.086106</td>\n",
       "      <td id=\"T_c7019_row2_col2\" class=\"data row2 col2\" >1.000000</td>\n",
       "      <td id=\"T_c7019_row2_col3\" class=\"data row2 col3\" >0.676390</td>\n",
       "      <td id=\"T_c7019_row2_col4\" class=\"data row2 col4\" >-0.004626</td>\n",
       "      <td id=\"T_c7019_row2_col5\" class=\"data row2 col5\" >-0.031956</td>\n",
       "      <td id=\"T_c7019_row2_col6\" class=\"data row2 col6\" >-0.539907</td>\n",
       "      <td id=\"T_c7019_row2_col7\" class=\"data row2 col7\" >0.033299</td>\n",
       "      <td id=\"T_c7019_row2_col8\" class=\"data row2 col8\" >0.160991</td>\n",
       "      <td id=\"T_c7019_row2_col9\" class=\"data row2 col9\" >0.151181</td>\n",
       "      <td id=\"T_c7019_row2_col10\" class=\"data row2 col10\" >0.150593</td>\n",
       "      <td id=\"T_c7019_row2_col11\" class=\"data row2 col11\" >0.013581</td>\n",
       "    </tr>\n",
       "    <tr>\n",
       "      <th id=\"T_c7019_level0_row3\" class=\"row_heading level0 row3\" >loudness</th>\n",
       "      <td id=\"T_c7019_row3_col0\" class=\"data row3 col0\" >0.057266</td>\n",
       "      <td id=\"T_c7019_row3_col1\" class=\"data row3 col1\" >0.025422</td>\n",
       "      <td id=\"T_c7019_row3_col2\" class=\"data row3 col2\" >0.676390</td>\n",
       "      <td id=\"T_c7019_row3_col3\" class=\"data row3 col3\" >1.000000</td>\n",
       "      <td id=\"T_c7019_row3_col4\" class=\"data row3 col4\" >-0.019077</td>\n",
       "      <td id=\"T_c7019_row3_col5\" class=\"data row3 col5\" >0.010634</td>\n",
       "      <td id=\"T_c7019_row3_col6\" class=\"data row3 col6\" >-0.361680</td>\n",
       "      <td id=\"T_c7019_row3_col7\" class=\"data row3 col7\" >-0.147941</td>\n",
       "      <td id=\"T_c7019_row3_col8\" class=\"data row3 col8\" >0.077364</td>\n",
       "      <td id=\"T_c7019_row3_col9\" class=\"data row3 col9\" >0.053350</td>\n",
       "      <td id=\"T_c7019_row3_col10\" class=\"data row3 col10\" >0.094122</td>\n",
       "      <td id=\"T_c7019_row3_col11\" class=\"data row3 col11\" >-0.114385</td>\n",
       "    </tr>\n",
       "    <tr>\n",
       "      <th id=\"T_c7019_level0_row4\" class=\"row_heading level0 row4\" >mode</th>\n",
       "      <td id=\"T_c7019_row4_col0\" class=\"data row4 col0\" >0.010634</td>\n",
       "      <td id=\"T_c7019_row4_col1\" class=\"data row4 col1\" >-0.058946</td>\n",
       "      <td id=\"T_c7019_row4_col2\" class=\"data row4 col2\" >-0.004626</td>\n",
       "      <td id=\"T_c7019_row4_col3\" class=\"data row4 col3\" >-0.019077</td>\n",
       "      <td id=\"T_c7019_row4_col4\" class=\"data row4 col4\" >1.000000</td>\n",
       "      <td id=\"T_c7019_row4_col5\" class=\"data row4 col5\" >-0.063825</td>\n",
       "      <td id=\"T_c7019_row4_col6\" class=\"data row4 col6\" >0.009559</td>\n",
       "      <td id=\"T_c7019_row4_col7\" class=\"data row4 col7\" >-0.006554</td>\n",
       "      <td id=\"T_c7019_row4_col8\" class=\"data row4 col8\" >-0.005481</td>\n",
       "      <td id=\"T_c7019_row4_col9\" class=\"data row4 col9\" >0.002453</td>\n",
       "      <td id=\"T_c7019_row4_col10\" class=\"data row4 col10\" >0.014214</td>\n",
       "      <td id=\"T_c7019_row4_col11\" class=\"data row4 col11\" >0.015464</td>\n",
       "    </tr>\n",
       "    <tr>\n",
       "      <th id=\"T_c7019_level0_row5\" class=\"row_heading level0 row5\" >speechiness</th>\n",
       "      <td id=\"T_c7019_row5_col0\" class=\"data row5 col0\" >0.006769</td>\n",
       "      <td id=\"T_c7019_row5_col1\" class=\"data row5 col1\" >0.181375</td>\n",
       "      <td id=\"T_c7019_row5_col2\" class=\"data row5 col2\" >-0.031956</td>\n",
       "      <td id=\"T_c7019_row5_col3\" class=\"data row5 col3\" >0.010634</td>\n",
       "      <td id=\"T_c7019_row5_col4\" class=\"data row5 col4\" >-0.063825</td>\n",
       "      <td id=\"T_c7019_row5_col5\" class=\"data row5 col5\" >1.000000</td>\n",
       "      <td id=\"T_c7019_row5_col6\" class=\"data row5 col6\" >0.025959</td>\n",
       "      <td id=\"T_c7019_row5_col7\" class=\"data row5 col7\" >-0.103350</td>\n",
       "      <td id=\"T_c7019_row5_col8\" class=\"data row5 col8\" >0.055524</td>\n",
       "      <td id=\"T_c7019_row5_col9\" class=\"data row5 col9\" >0.064226</td>\n",
       "      <td id=\"T_c7019_row5_col10\" class=\"data row5 col10\" >0.044402</td>\n",
       "      <td id=\"T_c7019_row5_col11\" class=\"data row5 col11\" >-0.088982</td>\n",
       "    </tr>\n",
       "    <tr>\n",
       "      <th id=\"T_c7019_level0_row6\" class=\"row_heading level0 row6\" >acousticness</th>\n",
       "      <td id=\"T_c7019_row6_col0\" class=\"data row6 col0\" >0.085303</td>\n",
       "      <td id=\"T_c7019_row6_col1\" class=\"data row6 col1\" >-0.024432</td>\n",
       "      <td id=\"T_c7019_row6_col2\" class=\"data row6 col2\" >-0.539907</td>\n",
       "      <td id=\"T_c7019_row6_col3\" class=\"data row6 col3\" >-0.361680</td>\n",
       "      <td id=\"T_c7019_row6_col4\" class=\"data row6 col4\" >0.009559</td>\n",
       "      <td id=\"T_c7019_row6_col5\" class=\"data row6 col5\" >0.025959</td>\n",
       "      <td id=\"T_c7019_row6_col6\" class=\"data row6 col6\" >1.000000</td>\n",
       "      <td id=\"T_c7019_row6_col7\" class=\"data row6 col7\" >-0.006880</td>\n",
       "      <td id=\"T_c7019_row6_col8\" class=\"data row6 col8\" >-0.077248</td>\n",
       "      <td id=\"T_c7019_row6_col9\" class=\"data row6 col9\" >-0.016757</td>\n",
       "      <td id=\"T_c7019_row6_col10\" class=\"data row6 col10\" >-0.112733</td>\n",
       "      <td id=\"T_c7019_row6_col11\" class=\"data row6 col11\" >-0.081588</td>\n",
       "    </tr>\n",
       "    <tr>\n",
       "      <th id=\"T_c7019_level0_row7\" class=\"row_heading level0 row7\" >instrumentalness</th>\n",
       "      <td id=\"T_c7019_row7_col0\" class=\"data row7 col0\" >-0.149815</td>\n",
       "      <td id=\"T_c7019_row7_col1\" class=\"data row7 col1\" >-0.008501</td>\n",
       "      <td id=\"T_c7019_row7_col2\" class=\"data row7 col2\" >0.033299</td>\n",
       "      <td id=\"T_c7019_row7_col3\" class=\"data row7 col3\" >-0.147941</td>\n",
       "      <td id=\"T_c7019_row7_col4\" class=\"data row7 col4\" >-0.006554</td>\n",
       "      <td id=\"T_c7019_row7_col5\" class=\"data row7 col5\" >-0.103350</td>\n",
       "      <td id=\"T_c7019_row7_col6\" class=\"data row7 col6\" >-0.006880</td>\n",
       "      <td id=\"T_c7019_row7_col7\" class=\"data row7 col7\" >1.000000</td>\n",
       "      <td id=\"T_c7019_row7_col8\" class=\"data row7 col8\" >-0.005472</td>\n",
       "      <td id=\"T_c7019_row7_col9\" class=\"data row7 col9\" >-0.175376</td>\n",
       "      <td id=\"T_c7019_row7_col10\" class=\"data row7 col10\" >0.023218</td>\n",
       "      <td id=\"T_c7019_row7_col11\" class=\"data row7 col11\" >0.063237</td>\n",
       "    </tr>\n",
       "    <tr>\n",
       "      <th id=\"T_c7019_level0_row8\" class=\"row_heading level0 row8\" >liveness</th>\n",
       "      <td id=\"T_c7019_row8_col0\" class=\"data row8 col0\" >-0.054809</td>\n",
       "      <td id=\"T_c7019_row8_col1\" class=\"data row8 col1\" >-0.123882</td>\n",
       "      <td id=\"T_c7019_row8_col2\" class=\"data row8 col2\" >0.160991</td>\n",
       "      <td id=\"T_c7019_row8_col3\" class=\"data row8 col3\" >0.077364</td>\n",
       "      <td id=\"T_c7019_row8_col4\" class=\"data row8 col4\" >-0.005481</td>\n",
       "      <td id=\"T_c7019_row8_col5\" class=\"data row8 col5\" >0.055524</td>\n",
       "      <td id=\"T_c7019_row8_col6\" class=\"data row8 col6\" >-0.077248</td>\n",
       "      <td id=\"T_c7019_row8_col7\" class=\"data row8 col7\" >-0.005472</td>\n",
       "      <td id=\"T_c7019_row8_col8\" class=\"data row8 col8\" >1.000000</td>\n",
       "      <td id=\"T_c7019_row8_col9\" class=\"data row8 col9\" >-0.020573</td>\n",
       "      <td id=\"T_c7019_row8_col10\" class=\"data row8 col10\" >0.021201</td>\n",
       "      <td id=\"T_c7019_row8_col11\" class=\"data row8 col11\" >0.006517</td>\n",
       "    </tr>\n",
       "    <tr>\n",
       "      <th id=\"T_c7019_level0_row9\" class=\"row_heading level0 row9\" >valence</th>\n",
       "      <td id=\"T_c7019_row9_col0\" class=\"data row9 col0\" >0.033090</td>\n",
       "      <td id=\"T_c7019_row9_col1\" class=\"data row9 col1\" >0.330296</td>\n",
       "      <td id=\"T_c7019_row9_col2\" class=\"data row9 col2\" >0.151181</td>\n",
       "      <td id=\"T_c7019_row9_col3\" class=\"data row9 col3\" >0.053350</td>\n",
       "      <td id=\"T_c7019_row9_col4\" class=\"data row9 col4\" >0.002453</td>\n",
       "      <td id=\"T_c7019_row9_col5\" class=\"data row9 col5\" >0.064226</td>\n",
       "      <td id=\"T_c7019_row9_col6\" class=\"data row9 col6\" >-0.016757</td>\n",
       "      <td id=\"T_c7019_row9_col7\" class=\"data row9 col7\" >-0.175376</td>\n",
       "      <td id=\"T_c7019_row9_col8\" class=\"data row9 col8\" >-0.020573</td>\n",
       "      <td id=\"T_c7019_row9_col9\" class=\"data row9 col9\" >1.000000</td>\n",
       "      <td id=\"T_c7019_row9_col10\" class=\"data row9 col10\" >-0.025998</td>\n",
       "      <td id=\"T_c7019_row9_col11\" class=\"data row9 col11\" >-0.032084</td>\n",
       "    </tr>\n",
       "    <tr>\n",
       "      <th id=\"T_c7019_level0_row10\" class=\"row_heading level0 row10\" >tempo</th>\n",
       "      <td id=\"T_c7019_row10_col0\" class=\"data row10 col0\" >-0.005170</td>\n",
       "      <td id=\"T_c7019_row10_col1\" class=\"data row10 col1\" >-0.184358</td>\n",
       "      <td id=\"T_c7019_row10_col2\" class=\"data row10 col2\" >0.150593</td>\n",
       "      <td id=\"T_c7019_row10_col3\" class=\"data row10 col3\" >0.094122</td>\n",
       "      <td id=\"T_c7019_row10_col4\" class=\"data row10 col4\" >0.014214</td>\n",
       "      <td id=\"T_c7019_row10_col5\" class=\"data row10 col5\" >0.044402</td>\n",
       "      <td id=\"T_c7019_row10_col6\" class=\"data row10 col6\" >-0.112733</td>\n",
       "      <td id=\"T_c7019_row10_col7\" class=\"data row10 col7\" >0.023218</td>\n",
       "      <td id=\"T_c7019_row10_col8\" class=\"data row10 col8\" >0.021201</td>\n",
       "      <td id=\"T_c7019_row10_col9\" class=\"data row10 col9\" >-0.025998</td>\n",
       "      <td id=\"T_c7019_row10_col10\" class=\"data row10 col10\" >1.000000</td>\n",
       "      <td id=\"T_c7019_row10_col11\" class=\"data row10 col11\" >-0.001793</td>\n",
       "    </tr>\n",
       "    <tr>\n",
       "      <th id=\"T_c7019_level0_row11\" class=\"row_heading level0 row11\" >duration_ms</th>\n",
       "      <td id=\"T_c7019_row11_col0\" class=\"data row11 col0\" >-0.143218</td>\n",
       "      <td id=\"T_c7019_row11_col1\" class=\"data row11 col1\" >-0.096884</td>\n",
       "      <td id=\"T_c7019_row11_col2\" class=\"data row11 col2\" >0.013581</td>\n",
       "      <td id=\"T_c7019_row11_col3\" class=\"data row11 col3\" >-0.114385</td>\n",
       "      <td id=\"T_c7019_row11_col4\" class=\"data row11 col4\" >0.015464</td>\n",
       "      <td id=\"T_c7019_row11_col5\" class=\"data row11 col5\" >-0.088982</td>\n",
       "      <td id=\"T_c7019_row11_col6\" class=\"data row11 col6\" >-0.081588</td>\n",
       "      <td id=\"T_c7019_row11_col7\" class=\"data row11 col7\" >0.063237</td>\n",
       "      <td id=\"T_c7019_row11_col8\" class=\"data row11 col8\" >0.006517</td>\n",
       "      <td id=\"T_c7019_row11_col9\" class=\"data row11 col9\" >-0.032084</td>\n",
       "      <td id=\"T_c7019_row11_col10\" class=\"data row11 col10\" >-0.001793</td>\n",
       "      <td id=\"T_c7019_row11_col11\" class=\"data row11 col11\" >1.000000</td>\n",
       "    </tr>\n",
       "  </tbody>\n",
       "</table>\n"
      ],
      "text/plain": [
       "<pandas.io.formats.style.Styler at 0x7f66544a86d0>"
      ]
     },
     "execution_count": 43,
     "metadata": {},
     "output_type": "execute_result"
    }
   ],
   "source": [
    "from pyspark.ml.stat import Correlation\n",
    "from pyspark.ml.feature import VectorAssembler, QuantileDiscretizer\n",
    "import pandas as pd\n",
    "\n",
    "vector_col = 'corr_features'\n",
    "assembler = VectorAssembler(inputCols=new_df.columns, outputCol=vector_col, handleInvalid=\"skip\")\n",
    "df_vector = assembler.transform(new_df).select(vector_col)\n",
    "\n",
    "numeric_variables = new_df.columns\n",
    "matrix = Correlation.corr(df_vector, vector_col).collect()[0][0] \n",
    "corr_matrix = matrix.toArray().tolist() \n",
    "corr_matrix_df = pd.DataFrame(data=corr_matrix, columns = numeric_variables, index=numeric_variables) \n",
    "corr_matrix_df.style.background_gradient(cmap='coolwarm')\n"
   ]
  },
  {
   "cell_type": "markdown",
   "metadata": {
    "application/vnd.databricks.v1+cell": {
     "cellMetadata": {
      "byteLimit": 2048000,
      "rowLimit": 10000
     },
     "inputWidgets": {},
     "nuid": "1b7c67ff-2b80-4371-9ba4-b802a8660daf",
     "showTitle": false,
     "title": ""
    },
    "collapsed": false,
    "jupyter": {
     "outputs_hidden": false
    }
   },
   "source": [
    "## 2. Load Data"
   ]
  },
  {
   "cell_type": "markdown",
   "metadata": {
    "application/vnd.databricks.v1+cell": {
     "cellMetadata": {
      "byteLimit": 2048000,
      "rowLimit": 10000
     },
     "inputWidgets": {},
     "nuid": "0e0dcd63-bcde-40b8-a6a3-0d07ecbfbffb",
     "showTitle": false,
     "title": ""
    },
    "collapsed": false,
    "jupyter": {
     "outputs_hidden": false
    }
   },
   "source": [
    "Doc: http://spark.apache.org/docs/latest/ml-datasource.html\n",
    "\n",
    "Download data from https://github.com/apache/spark/blob/master/data/mllib/sample_libsvm_data.txt and load as DataFrame."
   ]
  },
  {
   "cell_type": "code",
   "execution_count": 20,
   "metadata": {
    "ExecuteTime": {
     "end_time": "2023-11-17T00:29:49.044063Z",
     "start_time": "2023-11-17T00:29:47.110301Z"
    },
    "application/vnd.databricks.v1+cell": {
     "cellMetadata": {
      "byteLimit": 2048000,
      "rowLimit": 10000
     },
     "inputWidgets": {},
     "nuid": "469e0b7c-633f-4e71-ab85-cc5d2a077f74",
     "showTitle": false,
     "title": ""
    },
    "collapsed": false,
    "jupyter": {
     "outputs_hidden": false
    }
   },
   "outputs": [
    {
     "name": "stdout",
     "output_type": "stream",
     "text": [
      "+-----+--------------------+\n",
      "|label|            features|\n",
      "+-----+--------------------+\n",
      "|  0.0|(780,[127,128,129...|\n",
      "|  1.0|(780,[158,159,160...|\n",
      "|  1.0|(780,[124,125,126...|\n",
      "|  1.0|(780,[152,153,154...|\n",
      "|  1.0|(780,[151,152,153...|\n",
      "|  0.0|(780,[129,130,131...|\n",
      "|  1.0|(780,[158,159,160...|\n",
      "|  1.0|(780,[99,100,101,...|\n",
      "|  0.0|(780,[154,155,156...|\n",
      "|  0.0|(780,[127,128,129...|\n",
      "+-----+--------------------+\n",
      "only showing top 10 rows\n",
      "\n"
     ]
    },
    {
     "data": {
      "text/plain": [
       "[Row(label=0.0, features=SparseVector(780, {127: 51.0, 128: 159.0, 129: 253.0, 130: 159.0, 131: 50.0, 154: 48.0, 155: 238.0, 156: 252.0, 157: 252.0, 158: 252.0, 159: 237.0, 181: 54.0, 182: 227.0, 183: 253.0, 184: 252.0, 185: 239.0, 186: 233.0, 187: 252.0, 188: 57.0, 189: 6.0, 207: 10.0, 208: 60.0, 209: 224.0, 210: 252.0, 211: 253.0, 212: 252.0, 213: 202.0, 214: 84.0, 215: 252.0, 216: 253.0, 217: 122.0, 235: 163.0, 236: 252.0, 237: 252.0, 238: 252.0, 239: 253.0, 240: 252.0, 241: 252.0, 242: 96.0, 243: 189.0, 244: 253.0, 245: 167.0, 262: 51.0, 263: 238.0, 264: 253.0, 265: 253.0, 266: 190.0, 267: 114.0, 268: 253.0, 269: 228.0, 270: 47.0, 271: 79.0, 272: 255.0, 273: 168.0, 289: 48.0, 290: 238.0, 291: 252.0, 292: 252.0, 293: 179.0, 294: 12.0, 295: 75.0, 296: 121.0, 297: 21.0, 300: 253.0, 301: 243.0, 302: 50.0, 316: 38.0, 317: 165.0, 318: 253.0, 319: 233.0, 320: 208.0, 321: 84.0, 328: 253.0, 329: 252.0, 330: 165.0, 343: 7.0, 344: 178.0, 345: 252.0, 346: 240.0, 347: 71.0, 348: 19.0, 349: 28.0, 356: 253.0, 357: 252.0, 358: 195.0, 371: 57.0, 372: 252.0, 373: 252.0, 374: 63.0, 384: 253.0, 385: 252.0, 386: 195.0, 399: 198.0, 400: 253.0, 401: 190.0, 412: 255.0, 413: 253.0, 414: 196.0, 426: 76.0, 427: 246.0, 428: 252.0, 429: 112.0, 440: 253.0, 441: 252.0, 442: 148.0, 454: 85.0, 455: 252.0, 456: 230.0, 457: 25.0, 466: 7.0, 467: 135.0, 468: 253.0, 469: 186.0, 470: 12.0, 482: 85.0, 483: 252.0, 484: 223.0, 493: 7.0, 494: 131.0, 495: 252.0, 496: 225.0, 497: 71.0, 510: 85.0, 511: 252.0, 512: 145.0, 520: 48.0, 521: 165.0, 522: 252.0, 523: 173.0, 538: 86.0, 539: 253.0, 540: 225.0, 547: 114.0, 548: 238.0, 549: 253.0, 550: 162.0, 566: 85.0, 567: 252.0, 568: 249.0, 569: 146.0, 570: 48.0, 571: 29.0, 572: 85.0, 573: 178.0, 574: 225.0, 575: 253.0, 576: 223.0, 577: 167.0, 578: 56.0, 594: 85.0, 595: 252.0, 596: 252.0, 597: 252.0, 598: 229.0, 599: 215.0, 600: 252.0, 601: 252.0, 602: 252.0, 603: 196.0, 604: 130.0, 622: 28.0, 623: 199.0, 624: 252.0, 625: 252.0, 626: 253.0, 627: 252.0, 628: 252.0, 629: 233.0, 630: 145.0, 651: 25.0, 652: 128.0, 653: 252.0, 654: 253.0, 655: 252.0, 656: 141.0, 657: 37.0}))]"
      ]
     },
     "execution_count": 20,
     "metadata": {},
     "output_type": "execute_result"
    }
   ],
   "source": [
    "file = \"sample_libsvm_data.txt\"\n",
    "\n",
    "df = spark.read.format(\"libsvm\").option(\"numFeatures\", \"780\").load(file)\n",
    "df.show(10)\n",
    "df.take(1)"
   ]
  },
  {
   "cell_type": "markdown",
   "metadata": {
    "application/vnd.databricks.v1+cell": {
     "cellMetadata": {
      "byteLimit": 2048000,
      "rowLimit": 10000
     },
     "inputWidgets": {},
     "nuid": "5310688b-300c-4090-86b0-95301679c185",
     "showTitle": false,
     "title": ""
    },
    "collapsed": false,
    "jupyter": {
     "outputs_hidden": false
    }
   },
   "source": [
    "### Exercise 2.A"
   ]
  },
  {
   "cell_type": "markdown",
   "metadata": {
    "application/vnd.databricks.v1+cell": {
     "cellMetadata": {
      "byteLimit": 2048000,
      "rowLimit": 10000
     },
     "inputWidgets": {},
     "nuid": "914dc6e6-8576-4c9e-b7dc-328c66678182",
     "showTitle": false,
     "title": ""
    },
    "collapsed": false,
    "jupyter": {
     "outputs_hidden": false
    }
   },
   "source": [
    "Load vehicle data from https://www.csie.ntu.edu.tw/~cjlin/libsvmtools/datasets/multiclass/vehicle.scale \n",
    "Dataset description: http://archive.ics.uci.edu/ml/datasets/Vehicle"
   ]
  },
  {
   "cell_type": "code",
   "execution_count": 25,
   "metadata": {
    "ExecuteTime": {
     "end_time": "2023-11-17T00:29:54.515641Z",
     "start_time": "2023-11-17T00:29:54.510572Z"
    },
    "application/vnd.databricks.v1+cell": {
     "cellMetadata": {
      "byteLimit": 2048000,
      "rowLimit": 10000
     },
     "inputWidgets": {},
     "nuid": "409a6780-e70c-4aa6-a7f2-dd95338fdcd9",
     "showTitle": false,
     "title": ""
    },
    "collapsed": false,
    "jupyter": {
     "outputs_hidden": false
    }
   },
   "outputs": [
    {
     "name": "stdout",
     "output_type": "stream",
     "text": [
      "+-----+--------------------+\n",
      "|label|            features|\n",
      "+-----+--------------------+\n",
      "|  4.0|(18,[0,1,2,3,4,5,...|\n",
      "|  4.0|(18,[0,1,2,3,4,5,...|\n",
      "|  2.0|(18,[0,1,2,3,4,5,...|\n",
      "+-----+--------------------+\n",
      "only showing top 3 rows\n",
      "\n"
     ]
    }
   ],
   "source": [
    "file = \"vehicle.scale\"\n",
    "file_type = \"libsvm\"\n",
    "\n",
    "infer_schema = \"true\"\n",
    "first_row_is_header = \"true\"\n",
    "delimiter = \",\"\n",
    "\n",
    "df_vehicle = spark.read.format(file_type) \\\n",
    "  .option(\"inferSchema\", infer_schema) \\\n",
    "  .option(\"header\", first_row_is_header) \\\n",
    "  .option(\"sep\", delimiter) \\\n",
    "  .load(file)\n",
    "df_vehicle.show(3)"
   ]
  },
  {
   "cell_type": "markdown",
   "metadata": {
    "application/vnd.databricks.v1+cell": {
     "cellMetadata": {
      "byteLimit": 2048000,
      "rowLimit": 10000
     },
     "inputWidgets": {},
     "nuid": "e09fa988-b3db-4991-bdc8-87e4451e009d",
     "showTitle": false,
     "title": ""
    },
    "collapsed": false,
    "jupyter": {
     "outputs_hidden": false
    }
   },
   "source": [
    "## 3. Classification (2.p)"
   ]
  },
  {
   "cell_type": "markdown",
   "metadata": {
    "application/vnd.databricks.v1+cell": {
     "cellMetadata": {
      "byteLimit": 2048000,
      "rowLimit": 10000
     },
     "inputWidgets": {},
     "nuid": "51484706-eab6-47e9-aec3-a42306705f87",
     "showTitle": false,
     "title": ""
    },
    "collapsed": false,
    "jupyter": {
     "outputs_hidden": false
    }
   },
   "source": [
    "### Exercise 3.A"
   ]
  },
  {
   "cell_type": "markdown",
   "metadata": {
    "application/vnd.databricks.v1+cell": {
     "cellMetadata": {
      "byteLimit": 2048000,
      "rowLimit": 10000
     },
     "inputWidgets": {},
     "nuid": "dd6e18df-7189-470d-aee2-2d9b550894ce",
     "showTitle": false,
     "title": ""
    },
    "collapsed": false,
    "jupyter": {
     "outputs_hidden": false
    }
   },
   "source": [
    "Download Credit Card Fraud Detection Dataset 2023 from https://www.kaggle.com/datasets/nelgiriyewithana/credit-card-fraud-detection-dataset-2023 and make classification of potentially fraudulent transactions:\n",
    "\n",
    "- Create pipeline with VectorAssembler and RandomForestClassifier.\n",
    "\n",
    "- Use the pipeline to make predictions.\n",
    "\n",
    "- Evaluate predictions using MulticlassClassificationEvaluator.\n",
    "\n",
    "- Calculate accuracy and test error\n",
    "\n",
    "- Print the structure of the trained decision tree (hint: use toDebugString attribute)"
   ]
  },
  {
   "cell_type": "code",
   "execution_count": 29,
   "metadata": {
    "ExecuteTime": {
     "end_time": "2023-11-17T00:30:01.757494Z",
     "start_time": "2023-11-17T00:30:01.748158Z"
    },
    "application/vnd.databricks.v1+cell": {
     "cellMetadata": {
      "byteLimit": 2048000,
      "rowLimit": 10000
     },
     "inputWidgets": {},
     "nuid": "441007e5-376f-4b52-9193-d16cb56c2bcf",
     "showTitle": false,
     "title": ""
    },
    "collapsed": false,
    "jupyter": {
     "outputs_hidden": false
    }
   },
   "outputs": [
    {
     "data": {
      "text/html": [
       "<div>\n",
       "<style scoped>\n",
       "    .dataframe tbody tr th:only-of-type {\n",
       "        vertical-align: middle;\n",
       "    }\n",
       "\n",
       "    .dataframe tbody tr th {\n",
       "        vertical-align: top;\n",
       "    }\n",
       "\n",
       "    .dataframe thead th {\n",
       "        text-align: right;\n",
       "    }\n",
       "</style>\n",
       "<table border=\"1\" class=\"dataframe\">\n",
       "  <thead>\n",
       "    <tr style=\"text-align: right;\">\n",
       "      <th></th>\n",
       "      <th>id</th>\n",
       "      <th>V1</th>\n",
       "      <th>V2</th>\n",
       "      <th>V3</th>\n",
       "      <th>V4</th>\n",
       "      <th>V5</th>\n",
       "      <th>V6</th>\n",
       "      <th>V7</th>\n",
       "      <th>V8</th>\n",
       "      <th>V9</th>\n",
       "      <th>...</th>\n",
       "      <th>V21</th>\n",
       "      <th>V22</th>\n",
       "      <th>V23</th>\n",
       "      <th>V24</th>\n",
       "      <th>V25</th>\n",
       "      <th>V26</th>\n",
       "      <th>V27</th>\n",
       "      <th>V28</th>\n",
       "      <th>Amount</th>\n",
       "      <th>Class</th>\n",
       "    </tr>\n",
       "  </thead>\n",
       "  <tbody>\n",
       "    <tr>\n",
       "      <th>0</th>\n",
       "      <td>0</td>\n",
       "      <td>-0.260648</td>\n",
       "      <td>-0.469648</td>\n",
       "      <td>2.496266</td>\n",
       "      <td>-0.083724</td>\n",
       "      <td>0.129681</td>\n",
       "      <td>0.732898</td>\n",
       "      <td>0.519014</td>\n",
       "      <td>-0.130006</td>\n",
       "      <td>0.727159</td>\n",
       "      <td>...</td>\n",
       "      <td>-0.110552</td>\n",
       "      <td>0.217606</td>\n",
       "      <td>-0.134794</td>\n",
       "      <td>0.165959</td>\n",
       "      <td>0.12628</td>\n",
       "      <td>-0.434824</td>\n",
       "      <td>-0.081230</td>\n",
       "      <td>-0.151045</td>\n",
       "      <td>17982.10</td>\n",
       "      <td>0</td>\n",
       "    </tr>\n",
       "    <tr>\n",
       "      <th>1</th>\n",
       "      <td>1</td>\n",
       "      <td>0.985100</td>\n",
       "      <td>-0.356045</td>\n",
       "      <td>0.558056</td>\n",
       "      <td>-0.429654</td>\n",
       "      <td>0.277140</td>\n",
       "      <td>0.428605</td>\n",
       "      <td>0.406466</td>\n",
       "      <td>-0.133118</td>\n",
       "      <td>0.347452</td>\n",
       "      <td>...</td>\n",
       "      <td>-0.194936</td>\n",
       "      <td>-0.605761</td>\n",
       "      <td>0.079469</td>\n",
       "      <td>-0.577395</td>\n",
       "      <td>0.19009</td>\n",
       "      <td>0.296503</td>\n",
       "      <td>-0.248052</td>\n",
       "      <td>-0.064512</td>\n",
       "      <td>6531.37</td>\n",
       "      <td>0</td>\n",
       "    </tr>\n",
       "  </tbody>\n",
       "</table>\n",
       "<p>2 rows × 31 columns</p>\n",
       "</div>"
      ],
      "text/plain": [
       "   id        V1        V2        V3        V4        V5        V6        V7  \\\n",
       "0   0 -0.260648 -0.469648  2.496266 -0.083724  0.129681  0.732898  0.519014   \n",
       "1   1  0.985100 -0.356045  0.558056 -0.429654  0.277140  0.428605  0.406466   \n",
       "\n",
       "         V8        V9  ...       V21       V22       V23       V24      V25  \\\n",
       "0 -0.130006  0.727159  ... -0.110552  0.217606 -0.134794  0.165959  0.12628   \n",
       "1 -0.133118  0.347452  ... -0.194936 -0.605761  0.079469 -0.577395  0.19009   \n",
       "\n",
       "        V26       V27       V28    Amount  Class  \n",
       "0 -0.434824 -0.081230 -0.151045  17982.10      0  \n",
       "1  0.296503 -0.248052 -0.064512   6531.37      0  \n",
       "\n",
       "[2 rows x 31 columns]"
      ]
     },
     "execution_count": 29,
     "metadata": {},
     "output_type": "execute_result"
    }
   ],
   "source": [
    "file_location = \"creditcard_2023.csv\"\n",
    "file_type = \"csv\"\n",
    "\n",
    "# CSV options\n",
    "infer_schema = \"true\"\n",
    "first_row_is_header = \"true\"\n",
    "delimiter = \",\"\n",
    "\n",
    "# The applied options are for CSV files. For other file types, these will be ignored.\n",
    "df_credit = spark.read.format(file_type) \\\n",
    "  .option(\"inferSchema\", infer_schema) \\\n",
    "  .option(\"header\", first_row_is_header) \\\n",
    "  .option(\"sep\", delimiter) \\\n",
    "  .load(file_location)\n",
    "\n",
    "df_credit.toPandas().head(2)"
   ]
  },
  {
   "cell_type": "code",
   "execution_count": 30,
   "metadata": {},
   "outputs": [],
   "source": [
    "train_df, test_df = df_credit.randomSplit([0.8, 0.2], seed=0)"
   ]
  },
  {
   "cell_type": "code",
   "execution_count": 45,
   "metadata": {},
   "outputs": [],
   "source": [
    "from pyspark.ml import Pipeline\n",
    "from pyspark.ml.classification import DecisionTreeClassifier, RandomForestClassifier\n",
    "from pyspark.ml.evaluation import MulticlassClassificationEvaluator\n",
    "\n",
    "def rf_classificataion(train_df, test_df ):\n",
    "    num_classes = train_df.select(\"Class\").distinct().count()\n",
    "    num_col = train_df.columns[1:]\n",
    "    vector_col = 'features'\n",
    "    assembler = VectorAssembler(inputCols=train_df.columns, outputCol=vector_col)\n",
    "\n",
    "    random_forest = RandomForestClassifier(labelCol='Class', featuresCol=vector_col)\n",
    "    pipeline = Pipeline(stages=[assembler, random_forest]) \n",
    "    model = pipeline.fit(train_df)\n",
    "    predictions =  model.transform(test_df)\n",
    "\n",
    "    evaluator = MulticlassClassificationEvaluator(\n",
    "        labelCol=\"Class\", \n",
    "        predictionCol=\"prediction\", \n",
    "        metricName=\"accuracy\"\n",
    "    )\n",
    "    accuracy = evaluator.evaluate(predictions) * 100\n",
    "    \n",
    "    return model, accuracy"
   ]
  },
  {
   "cell_type": "code",
   "execution_count": 46,
   "metadata": {},
   "outputs": [
    {
     "name": "stdout",
     "output_type": "stream",
     "text": [
      "99.99911844564335\n"
     ]
    }
   ],
   "source": [
    "model, accuracy = rf_classificataion(train_df, test_df)\n",
    "\n",
    "rf_model = model.stages[1]\n",
    "# print(rf_model.toDebugString)\n",
    "print(accuracy)"
   ]
  },
  {
   "cell_type": "markdown",
   "metadata": {
    "application/vnd.databricks.v1+cell": {
     "cellMetadata": {
      "byteLimit": 2048000,
      "rowLimit": 10000
     },
     "inputWidgets": {},
     "nuid": "75141aa2-aebd-445e-8ad9-609d50da8207",
     "showTitle": false,
     "title": ""
    },
    "collapsed": false,
    "jupyter": {
     "outputs_hidden": false
    }
   },
   "source": [
    "### Exercise 3.B"
   ]
  },
  {
   "cell_type": "markdown",
   "metadata": {
    "application/vnd.databricks.v1+cell": {
     "cellMetadata": {
      "byteLimit": 2048000,
      "rowLimit": 10000
     },
     "inputWidgets": {},
     "nuid": "cdec14ce-1d57-426b-ab1c-33df69feff7f",
     "showTitle": false,
     "title": ""
    },
    "collapsed": false,
    "jupyter": {
     "outputs_hidden": false
    }
   },
   "source": [
    "- Switch classifier to DecisionTreeClassifier\n",
    "- Extend the pipeline from the previous task with QuantileDiscretizer\n",
    "- Try using a couple of different numbers of buckets, which configuration gives the best results? Are there any differences between results?"
   ]
  },
  {
   "cell_type": "code",
   "execution_count": 50,
   "metadata": {
    "ExecuteTime": {
     "end_time": "2023-11-17T00:30:05.397499Z",
     "start_time": "2023-11-17T00:30:05.390309Z"
    },
    "application/vnd.databricks.v1+cell": {
     "cellMetadata": {
      "byteLimit": 2048000,
      "rowLimit": 10000
     },
     "inputWidgets": {},
     "nuid": "aed2af3f-d5c7-4c37-9397-3c41704beb2e",
     "showTitle": false,
     "title": ""
    },
    "collapsed": false,
    "jupyter": {
     "outputs_hidden": false
    }
   },
   "outputs": [],
   "source": [
    "def dt_classifier(df_train, df_test, buckets_num):\n",
    "    num_classes = df_train.select('Class').distinct().count()\n",
    "    num_col = df_train.columns[1:]\n",
    "    vector_col = 'features'\n",
    "\n",
    "    assembler = VectorAssembler(inputCols=df_train.columns, outputCol=vector_col) \n",
    "    decision_tree = DecisionTreeClassifier(labelCol='Class', featuresCol=vector_col)\n",
    "    discretized_cols = [f\"{col}_disc\" for col in train_df.columns[1:]]\n",
    "    \n",
    "    discretizer = QuantileDiscretizer(inputCols=num_col, outputCols=discretized_cols, numBuckets=buckets_num)\n",
    "    pipeline = Pipeline(stages = [discretizer, assembler, decision_tree])\n",
    "    model = pipeline.fit(df_train)\n",
    "    predictions = model.transform(df_test)\n",
    "\n",
    "    evaluator = MulticlassClassificationEvaluator(\n",
    "        labelCol=\"Class\", \n",
    "        predictionCol=\"prediction\", \n",
    "        metricName=\"accuracy\"\n",
    "    )\n",
    "    accuracy = evaluator.evaluate(predictions) * 100\n",
    "    \n",
    "    return model, accuracy"
   ]
  },
  {
   "cell_type": "code",
   "execution_count": 51,
   "metadata": {},
   "outputs": [
    {
     "name": "stdout",
     "output_type": "stream",
     "text": [
      "Bucket 2\n",
      "100.0\n",
      "Bucket 3\n",
      "100.0\n",
      "Bucket 4\n",
      "100.0\n",
      "Bucket 5\n",
      "100.0\n"
     ]
    }
   ],
   "source": [
    "for num_bins in range(2, 6):\n",
    "    model_dt, accuracy_dt = dt_classifier(train_df, test_df, num_bins)\n",
    "\n",
    "    rf_model = model.stages[1]\n",
    "    # print(rf_model.toDebugString)\n",
    "    print(f\"Bucket {num_bins}\")\n",
    "    print(accuracy_dt)"
   ]
  },
  {
   "cell_type": "markdown",
   "metadata": {
    "application/vnd.databricks.v1+cell": {
     "cellMetadata": {
      "byteLimit": 2048000,
      "rowLimit": 10000
     },
     "inputWidgets": {},
     "nuid": "dd131a62-761d-423c-b19a-c7c2fd94d48f",
     "showTitle": false,
     "title": ""
    },
    "collapsed": false,
    "jupyter": {
     "outputs_hidden": false
    }
   },
   "source": [
    "## 4. Text classification (2p.)"
   ]
  },
  {
   "cell_type": "markdown",
   "metadata": {
    "application/vnd.databricks.v1+cell": {
     "cellMetadata": {
      "byteLimit": 2048000,
      "rowLimit": 10000
     },
     "inputWidgets": {},
     "nuid": "e016e8e3-89df-4638-91c7-60189731874a",
     "showTitle": false,
     "title": ""
    },
    "collapsed": false,
    "jupyter": {
     "outputs_hidden": false
    }
   },
   "source": [
    "Build a pipeline consisting of Tokenizer, HashingTF, IDF and StringIndexer and LogisticRegression, fit it to training data: https://www.kaggle.com/datasets/deepcontractor/200k-short-texts-for-humor-detection"
   ]
  },
  {
   "cell_type": "code",
   "execution_count": 55,
   "metadata": {
    "ExecuteTime": {
     "end_time": "2023-11-17T00:30:07.192590Z",
     "start_time": "2023-11-17T00:30:07.171394Z"
    },
    "application/vnd.databricks.v1+cell": {
     "cellMetadata": {
      "byteLimit": 2048000,
      "rowLimit": 10000
     },
     "inputWidgets": {},
     "nuid": "f78d672c-7d58-48b3-beaf-f80f2f3b258e",
     "showTitle": false,
     "title": ""
    },
    "collapsed": false,
    "jupyter": {
     "outputs_hidden": false
    }
   },
   "outputs": [],
   "source": [
    "from pyspark.ml.classification import LogisticRegression"
   ]
  },
  {
   "cell_type": "code",
   "execution_count": 53,
   "metadata": {},
   "outputs": [
    {
     "data": {
      "text/html": [
       "<div>\n",
       "<style scoped>\n",
       "    .dataframe tbody tr th:only-of-type {\n",
       "        vertical-align: middle;\n",
       "    }\n",
       "\n",
       "    .dataframe tbody tr th {\n",
       "        vertical-align: top;\n",
       "    }\n",
       "\n",
       "    .dataframe thead th {\n",
       "        text-align: right;\n",
       "    }\n",
       "</style>\n",
       "<table border=\"1\" class=\"dataframe\">\n",
       "  <thead>\n",
       "    <tr style=\"text-align: right;\">\n",
       "      <th></th>\n",
       "      <th>text</th>\n",
       "      <th>humor</th>\n",
       "    </tr>\n",
       "  </thead>\n",
       "  <tbody>\n",
       "    <tr>\n",
       "      <th>0</th>\n",
       "      <td>Joe biden rules out 2020 bid: 'guys, i'm not r...</td>\n",
       "      <td>False</td>\n",
       "    </tr>\n",
       "    <tr>\n",
       "      <th>1</th>\n",
       "      <td>Watch: darvish gave hitter whiplash with slow ...</td>\n",
       "      <td>False</td>\n",
       "    </tr>\n",
       "  </tbody>\n",
       "</table>\n",
       "</div>"
      ],
      "text/plain": [
       "                                                text  humor\n",
       "0  Joe biden rules out 2020 bid: 'guys, i'm not r...  False\n",
       "1  Watch: darvish gave hitter whiplash with slow ...  False"
      ]
     },
     "execution_count": 53,
     "metadata": {},
     "output_type": "execute_result"
    }
   ],
   "source": [
    "file_location = \"dataset.csv\"\n",
    "file_type = \"csv\"\n",
    "\n",
    "# CSV options\n",
    "infer_schema = \"true\"\n",
    "first_row_is_header = \"true\"\n",
    "delimiter = \",\"\n",
    "\n",
    "# The applied options are for CSV files. For other file types, these will be ignored.\n",
    "df_humor = spark.read.format(file_type) \\\n",
    "  .option(\"inferSchema\", infer_schema) \\\n",
    "  .option(\"header\", first_row_is_header) \\\n",
    "  .option(\"sep\", delimiter) \\\n",
    "  .load(file_location)\n",
    "\n",
    "df_humor.toPandas().head(2)"
   ]
  },
  {
   "cell_type": "code",
   "execution_count": 54,
   "metadata": {},
   "outputs": [],
   "source": [
    "train_df, test_df = df_humor.randomSplit([0.8, 0.2], seed=0)"
   ]
  },
  {
   "cell_type": "code",
   "execution_count": 78,
   "metadata": {},
   "outputs": [],
   "source": [
    "train_df = train_df.withColumn('label', F.when(F.col('humor'), 1).otherwise(0))\n",
    "train_df = train_df.drop('humor')"
   ]
  },
  {
   "cell_type": "code",
   "execution_count": 80,
   "metadata": {},
   "outputs": [],
   "source": [
    "test_df = test_df.withColumn('label', F.when(F.col('humor'), 1).otherwise(0))\n",
    "test_df = test_df.drop('humor')"
   ]
  },
  {
   "cell_type": "code",
   "execution_count": 85,
   "metadata": {},
   "outputs": [],
   "source": [
    "from pyspark.ml.feature import HashingTF, IDF, StringIndexer, Tokenizer\n",
    "\n",
    "def lr_classifier(train_df, test_df):\n",
    "    \n",
    "    tokenizer = Tokenizer(\n",
    "    inputCol=\"text\", \n",
    "    outputCol=\"tokens\")\n",
    "        \n",
    "    hashing = HashingTF(\n",
    "    inputCol=\"tokens\", \n",
    "    outputCol=\"features\", \n",
    "    numFeatures=50)\n",
    "        \n",
    "    idf = IDF(\n",
    "    inputCol=\"features\", \n",
    "    outputCol=\"final_features\")\n",
    "    \n",
    "    str_index = StringIndexer(\n",
    "    inputCol=\"label\", \n",
    "    outputCol=\"final_label\",\n",
    "    handleInvalid=\"skip\")\n",
    "\n",
    "    lr_classifier = LogisticRegression(\n",
    "    featuresCol=\"final_features\", \n",
    "    labelCol=\"final_label\", \n",
    "    predictionCol=\"prediction\"\n",
    "    )\n",
    "\n",
    "    pipeline = Pipeline(stages=[tokenizer, hashing, idf, str_index, lr_classifier])\n",
    "\n",
    "    model = pipeline.fit(train_df)\n",
    "    predictions = model.transform(test_df)\n",
    "    \n",
    "    evaluator = MulticlassClassificationEvaluator(\n",
    "        labelCol=\"final_label\", \n",
    "        predictionCol=\"prediction\", \n",
    "        metricName=\"accuracy\"\n",
    "    )\n",
    "    accuracy = evaluator.evaluate(predictions) * 100\n",
    "    \n",
    "    return model, accuracy"
   ]
  },
  {
   "cell_type": "code",
   "execution_count": 86,
   "metadata": {},
   "outputs": [
    {
     "name": "stdout",
     "output_type": "stream",
     "text": [
      "76.48089291523812\n"
     ]
    }
   ],
   "source": [
    "model, accuracy = lr_classifier(train_df, test_df)\n",
    "rf_model = model.stages[1]\n",
    "# print(rf_model.toDebugString)\n",
    "print(accuracy)"
   ]
  },
  {
   "cell_type": "code",
   "execution_count": null,
   "metadata": {},
   "outputs": [],
   "source": []
  }
 ],
 "metadata": {
  "application/vnd.databricks.v1+notebook": {
   "dashboards": [],
   "language": "python",
   "notebookMetadata": {
    "pythonIndentUnit": 4
   },
   "notebookName": "ADZD-6-MLlib 1",
   "widgets": {}
  },
  "kernelspec": {
   "display_name": "Python 3 (ipykernel)",
   "language": "python",
   "name": "python3"
  },
  "language_info": {
   "codemirror_mode": {
    "name": "ipython",
    "version": 3
   },
   "file_extension": ".py",
   "mimetype": "text/x-python",
   "name": "python",
   "nbconvert_exporter": "python",
   "pygments_lexer": "ipython3",
   "version": "3.11.6"
  }
 },
 "nbformat": 4,
 "nbformat_minor": 4
}
