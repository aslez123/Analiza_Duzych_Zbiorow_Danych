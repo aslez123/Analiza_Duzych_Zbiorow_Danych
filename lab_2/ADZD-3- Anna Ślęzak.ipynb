{
 "cells": [
  {
   "cell_type": "markdown",
   "metadata": {
    "application/vnd.databricks.v1+cell": {
     "cellMetadata": {
      "byteLimit": 2048000,
      "rowLimit": 10000
     },
     "inputWidgets": {},
     "nuid": "2b550f26-e8a0-4edd-972e-54b1f63649aa",
     "showTitle": false,
     "title": ""
    }
   },
   "source": [
    "## Spark cluster intro Air quality examples"
   ]
  },
  {
   "cell_type": "markdown",
   "metadata": {
    "application/vnd.databricks.v1+cell": {
     "cellMetadata": {
      "byteLimit": 2048000,
      "rowLimit": 10000
     },
     "inputWidgets": {},
     "nuid": "67514099-a0f6-4296-ba2a-b99ce344e37f",
     "showTitle": false,
     "title": ""
    }
   },
   "source": [
    "### Initialization\n",
    "Create and attach cluster created in databricks. 12.2 LTS (includes Apache Spark 3.3.2, Scala 2.12) "
   ]
  },
  {
   "cell_type": "code",
   "execution_count": 0,
   "metadata": {
    "application/vnd.databricks.v1+cell": {
     "cellMetadata": {
      "byteLimit": 2048000,
      "rowLimit": 10000
     },
     "inputWidgets": {},
     "nuid": "67a37c1d-a889-4c0f-b741-a236203aab6a",
     "showTitle": false,
     "title": ""
    },
    "execution": {
     "iopub.execute_input": "2022-11-04T19:19:44.508099Z",
     "iopub.status.busy": "2022-11-04T19:19:44.507857Z",
     "iopub.status.idle": "2022-11-04T19:20:23.275027Z",
     "shell.execute_reply": "2022-11-04T19:20:23.273784Z",
     "shell.execute_reply.started": "2022-11-04T19:19:44.508074Z"
    },
    "tags": []
   },
   "outputs": [],
   "source": [
    "from pyspark.sql import SparkSession\n",
    "from pyspark.conf import SparkConf\n",
    "spark = SparkSession.builder.getOrCreate()"
   ]
  },
  {
   "cell_type": "code",
   "execution_count": 0,
   "metadata": {
    "application/vnd.databricks.v1+cell": {
     "cellMetadata": {
      "byteLimit": 2048000,
      "rowLimit": 10000
     },
     "inputWidgets": {},
     "nuid": "a88b1d0d-29ee-435a-88ab-5d2cdfbe501a",
     "showTitle": false,
     "title": ""
    }
   },
   "outputs": [
    {
     "output_type": "display_data",
     "data": {
      "application/vnd.databricks.v1+bamboolib_hint": "{\"pd.DataFrames\": [], \"version\": \"0.0.1\"}",
      "text/plain": []
     },
     "metadata": {},
     "output_type": "display_data"
    }
   ],
   "source": [
    "from pyspark.sql.functions import col, mean\n",
    "import pandas as pd"
   ]
  },
  {
   "cell_type": "markdown",
   "metadata": {
    "application/vnd.databricks.v1+cell": {
     "cellMetadata": {
      "byteLimit": 2048000,
      "rowLimit": 10000
     },
     "inputWidgets": {},
     "nuid": "e9b09d89-b7d0-4cdb-b300-404f5b54a87b",
     "showTitle": false,
     "title": ""
    }
   },
   "source": [
    "### Reading data from AWS S3\n",
    "\n",
    "Now we can read a small sample of data:"
   ]
  },
  {
   "cell_type": "code",
   "execution_count": 0,
   "metadata": {
    "application/vnd.databricks.v1+cell": {
     "cellMetadata": {
      "byteLimit": 2048000,
      "rowLimit": 10000
     },
     "inputWidgets": {},
     "nuid": "e66ec422-0a86-42d3-8f03-ef090c73bfab",
     "showTitle": false,
     "title": ""
    },
    "execution": {
     "iopub.execute_input": "2022-11-04T19:20:48.397158Z",
     "iopub.status.busy": "2022-11-04T19:20:48.396885Z",
     "iopub.status.idle": "2022-11-04T19:21:37.837726Z",
     "shell.execute_reply": "2022-11-04T19:21:37.837099Z",
     "shell.execute_reply.started": "2022-11-04T19:20:48.397121Z"
    },
    "tags": []
   },
   "outputs": [],
   "source": [
    "smog_df = spark.read.json(\"s3a://zad2-2385734987384989347t803478/*\")"
   ]
  },
  {
   "cell_type": "code",
   "execution_count": 0,
   "metadata": {
    "application/vnd.databricks.v1+cell": {
     "cellMetadata": {
      "byteLimit": 2048000,
      "rowLimit": 10000
     },
     "inputWidgets": {},
     "nuid": "dbfac42d-d81f-499d-8459-069bcbbd009a",
     "showTitle": false,
     "title": ""
    }
   },
   "outputs": [
    {
     "output_type": "stream",
     "name": "stdout",
     "output_type": "stream",
     "text": [
      "root\n |-- city: string (nullable = true)\n |-- country: string (nullable = true)\n |-- location: string (nullable = true)\n |-- mobile: boolean (nullable = true)\n |-- parameter: string (nullable = true)\n |-- sourcename: string (nullable = true)\n |-- sourcetype: string (nullable = true)\n |-- unit: string (nullable = true)\n |-- value: double (nullable = true)\n\n"
     ]
    }
   ],
   "source": [
    "smog_df.printSchema()"
   ]
  },
  {
   "cell_type": "markdown",
   "metadata": {
    "application/vnd.databricks.v1+cell": {
     "cellMetadata": {
      "byteLimit": 2048000,
      "rowLimit": 10000
     },
     "inputWidgets": {},
     "nuid": "9836853f-5ef1-4679-af42-b45e097d7f7e",
     "showTitle": false,
     "title": ""
    }
   },
   "source": [
    "### Simple queries"
   ]
  },
  {
   "cell_type": "code",
   "execution_count": 0,
   "metadata": {
    "application/vnd.databricks.v1+cell": {
     "cellMetadata": {
      "byteLimit": 2048000,
      "rowLimit": 10000
     },
     "inputWidgets": {},
     "nuid": "1bfc9c09-3f91-48a6-872a-30cccd461bc6",
     "showTitle": false,
     "title": ""
    }
   },
   "outputs": [
    {
     "output_type": "stream",
     "name": "stdout",
     "output_type": "stream",
     "text": [
      "Out[5]: 100000000"
     ]
    }
   ],
   "source": [
    "smog_df.count()"
   ]
  },
  {
   "cell_type": "code",
   "execution_count": 0,
   "metadata": {
    "application/vnd.databricks.v1+cell": {
     "cellMetadata": {
      "byteLimit": 2048000,
      "rowLimit": 10000
     },
     "inputWidgets": {},
     "nuid": "31f7b75e-bae5-48de-ae4c-ddd2ec3b52ea",
     "showTitle": false,
     "title": ""
    },
    "execution": {
     "iopub.execute_input": "2022-11-04T19:22:01.456926Z",
     "iopub.status.busy": "2022-11-04T19:22:01.456751Z",
     "iopub.status.idle": "2022-11-04T19:22:24.804450Z",
     "shell.execute_reply": "2022-11-04T19:22:24.803684Z",
     "shell.execute_reply.started": "2022-11-04T19:22:01.456903Z"
    }
   },
   "outputs": [
    {
     "output_type": "display_data",
     "data": {
      "text/html": [
       "<div>\n",
       "<style scoped>\n",
       "    .dataframe tbody tr th:only-of-type {\n",
       "        vertical-align: middle;\n",
       "    }\n",
       "\n",
       "    .dataframe tbody tr th {\n",
       "        vertical-align: top;\n",
       "    }\n",
       "\n",
       "    .dataframe thead th {\n",
       "        text-align: right;\n",
       "    }\n",
       "</style>\n",
       "<table border=\"1\" class=\"dataframe\">\n",
       "  <thead>\n",
       "    <tr style=\"text-align: right;\">\n",
       "      <th></th>\n",
       "      <th>parameter</th>\n",
       "    </tr>\n",
       "  </thead>\n",
       "  <tbody>\n",
       "    <tr>\n",
       "      <th>0</th>\n",
       "      <td>bc</td>\n",
       "    </tr>\n",
       "    <tr>\n",
       "      <th>1</th>\n",
       "      <td>so2</td>\n",
       "    </tr>\n",
       "    <tr>\n",
       "      <th>2</th>\n",
       "      <td>co</td>\n",
       "    </tr>\n",
       "    <tr>\n",
       "      <th>3</th>\n",
       "      <td>o3</td>\n",
       "    </tr>\n",
       "    <tr>\n",
       "      <th>4</th>\n",
       "      <td>pm10</td>\n",
       "    </tr>\n",
       "    <tr>\n",
       "      <th>5</th>\n",
       "      <td>no2</td>\n",
       "    </tr>\n",
       "    <tr>\n",
       "      <th>6</th>\n",
       "      <td>pm25</td>\n",
       "    </tr>\n",
       "  </tbody>\n",
       "</table>\n",
       "</div>"
      ]
     },
     "metadata": {
      "application/vnd.databricks.v1+output": {
       "addedWidgets": {},
       "arguments": {},
       "data": "<div>\n<style scoped>\n    .dataframe tbody tr th:only-of-type {\n        vertical-align: middle;\n    }\n\n    .dataframe tbody tr th {\n        vertical-align: top;\n    }\n\n    .dataframe thead th {\n        text-align: right;\n    }\n</style>\n<table border=\"1\" class=\"dataframe\">\n  <thead>\n    <tr style=\"text-align: right;\">\n      <th></th>\n      <th>parameter</th>\n    </tr>\n  </thead>\n  <tbody>\n    <tr>\n      <th>0</th>\n      <td>bc</td>\n    </tr>\n    <tr>\n      <th>1</th>\n      <td>so2</td>\n    </tr>\n    <tr>\n      <th>2</th>\n      <td>co</td>\n    </tr>\n    <tr>\n      <th>3</th>\n      <td>o3</td>\n    </tr>\n    <tr>\n      <th>4</th>\n      <td>pm10</td>\n    </tr>\n    <tr>\n      <th>5</th>\n      <td>no2</td>\n    </tr>\n    <tr>\n      <th>6</th>\n      <td>pm25</td>\n    </tr>\n  </tbody>\n</table>\n</div>",
       "datasetInfos": [],
       "metadata": {},
       "removedWidgets": [],
       "textData": null,
       "type": "htmlSandbox"
      }
     },
     "output_type": "display_data"
    }
   ],
   "source": [
    "smog_df.select('parameter').distinct().toPandas()"
   ]
  },
  {
   "cell_type": "code",
   "execution_count": 0,
   "metadata": {
    "application/vnd.databricks.v1+cell": {
     "cellMetadata": {
      "byteLimit": 2048000,
      "rowLimit": 10000
     },
     "inputWidgets": {},
     "nuid": "2af5ae74-eb5e-442b-9f33-a2461886aa2f",
     "showTitle": false,
     "title": ""
    },
    "execution": {
     "iopub.execute_input": "2022-11-04T19:22:24.805973Z",
     "iopub.status.busy": "2022-11-04T19:22:24.805684Z",
     "iopub.status.idle": "2022-11-04T19:22:48.153504Z",
     "shell.execute_reply": "2022-11-04T19:22:48.152730Z",
     "shell.execute_reply.started": "2022-11-04T19:22:24.805935Z"
    }
   },
   "outputs": [
    {
     "output_type": "display_data",
     "data": {
      "text/html": [
       "<div>\n",
       "<style scoped>\n",
       "    .dataframe tbody tr th:only-of-type {\n",
       "        vertical-align: middle;\n",
       "    }\n",
       "\n",
       "    .dataframe tbody tr th {\n",
       "        vertical-align: top;\n",
       "    }\n",
       "\n",
       "    .dataframe thead th {\n",
       "        text-align: right;\n",
       "    }\n",
       "</style>\n",
       "<table border=\"1\" class=\"dataframe\">\n",
       "  <thead>\n",
       "    <tr style=\"text-align: right;\">\n",
       "      <th></th>\n",
       "      <th>parameter</th>\n",
       "    </tr>\n",
       "  </thead>\n",
       "  <tbody>\n",
       "    <tr>\n",
       "      <th>0</th>\n",
       "      <td>bc</td>\n",
       "    </tr>\n",
       "    <tr>\n",
       "      <th>1</th>\n",
       "      <td>so2</td>\n",
       "    </tr>\n",
       "    <tr>\n",
       "      <th>2</th>\n",
       "      <td>co</td>\n",
       "    </tr>\n",
       "    <tr>\n",
       "      <th>3</th>\n",
       "      <td>o3</td>\n",
       "    </tr>\n",
       "    <tr>\n",
       "      <th>4</th>\n",
       "      <td>pm10</td>\n",
       "    </tr>\n",
       "    <tr>\n",
       "      <th>5</th>\n",
       "      <td>no2</td>\n",
       "    </tr>\n",
       "    <tr>\n",
       "      <th>6</th>\n",
       "      <td>pm25</td>\n",
       "    </tr>\n",
       "  </tbody>\n",
       "</table>\n",
       "</div>"
      ]
     },
     "metadata": {
      "application/vnd.databricks.v1+output": {
       "addedWidgets": {},
       "arguments": {},
       "data": "<div>\n<style scoped>\n    .dataframe tbody tr th:only-of-type {\n        vertical-align: middle;\n    }\n\n    .dataframe tbody tr th {\n        vertical-align: top;\n    }\n\n    .dataframe thead th {\n        text-align: right;\n    }\n</style>\n<table border=\"1\" class=\"dataframe\">\n  <thead>\n    <tr style=\"text-align: right;\">\n      <th></th>\n      <th>parameter</th>\n    </tr>\n  </thead>\n  <tbody>\n    <tr>\n      <th>0</th>\n      <td>bc</td>\n    </tr>\n    <tr>\n      <th>1</th>\n      <td>so2</td>\n    </tr>\n    <tr>\n      <th>2</th>\n      <td>co</td>\n    </tr>\n    <tr>\n      <th>3</th>\n      <td>o3</td>\n    </tr>\n    <tr>\n      <th>4</th>\n      <td>pm10</td>\n    </tr>\n    <tr>\n      <th>5</th>\n      <td>no2</td>\n    </tr>\n    <tr>\n      <th>6</th>\n      <td>pm25</td>\n    </tr>\n  </tbody>\n</table>\n</div>",
       "datasetInfos": [],
       "metadata": {},
       "removedWidgets": [],
       "textData": null,
       "type": "htmlSandbox"
      }
     },
     "output_type": "display_data"
    }
   ],
   "source": [
    "smog_df.select('parameter').distinct().toPandas()"
   ]
  },
  {
   "cell_type": "code",
   "execution_count": 0,
   "metadata": {
    "application/vnd.databricks.v1+cell": {
     "cellMetadata": {
      "byteLimit": 2048000,
      "rowLimit": 10000
     },
     "inputWidgets": {},
     "nuid": "9fc776b3-7dde-411a-836c-09b0be698814",
     "showTitle": false,
     "title": ""
    },
    "execution": {
     "iopub.execute_input": "2022-11-04T19:23:09.501204Z",
     "iopub.status.busy": "2022-11-04T19:23:09.501004Z",
     "iopub.status.idle": "2022-11-04T19:23:09.569815Z",
     "shell.execute_reply": "2022-11-04T19:23:09.568857Z",
     "shell.execute_reply.started": "2022-11-04T19:23:09.501180Z"
    }
   },
   "outputs": [],
   "source": [
    "from pyspark.sql.functions import col, asc, desc, max"
   ]
  },
  {
   "cell_type": "code",
   "execution_count": 0,
   "metadata": {
    "application/vnd.databricks.v1+cell": {
     "cellMetadata": {
      "byteLimit": 2048000,
      "rowLimit": 10000
     },
     "inputWidgets": {},
     "nuid": "3bc9d053-ab3d-4977-ac79-cd717757f706",
     "showTitle": false,
     "title": ""
    },
    "execution": {
     "iopub.execute_input": "2022-11-04T19:23:09.571426Z",
     "iopub.status.busy": "2022-11-04T19:23:09.571196Z",
     "iopub.status.idle": "2022-11-04T19:23:30.926223Z",
     "shell.execute_reply": "2022-11-04T19:23:30.925530Z",
     "shell.execute_reply.started": "2022-11-04T19:23:09.571400Z"
    }
   },
   "outputs": [
    {
     "output_type": "display_data",
     "data": {
      "text/html": [
       "<div>\n",
       "<style scoped>\n",
       "    .dataframe tbody tr th:only-of-type {\n",
       "        vertical-align: middle;\n",
       "    }\n",
       "\n",
       "    .dataframe tbody tr th {\n",
       "        vertical-align: top;\n",
       "    }\n",
       "\n",
       "    .dataframe thead th {\n",
       "        text-align: right;\n",
       "    }\n",
       "</style>\n",
       "<table border=\"1\" class=\"dataframe\">\n",
       "  <thead>\n",
       "    <tr style=\"text-align: right;\">\n",
       "      <th></th>\n",
       "      <th>city</th>\n",
       "    </tr>\n",
       "  </thead>\n",
       "  <tbody>\n",
       "    <tr>\n",
       "      <th>0</th>\n",
       "      <td>Żyrardów</td>\n",
       "    </tr>\n",
       "    <tr>\n",
       "      <th>1</th>\n",
       "      <td>Belsk</td>\n",
       "    </tr>\n",
       "    <tr>\n",
       "      <th>2</th>\n",
       "      <td>Legionowo</td>\n",
       "    </tr>\n",
       "    <tr>\n",
       "      <th>3</th>\n",
       "      <td>Radom</td>\n",
       "    </tr>\n",
       "    <tr>\n",
       "      <th>4</th>\n",
       "      <td>Siedlce</td>\n",
       "    </tr>\n",
       "    <tr>\n",
       "      <th>5</th>\n",
       "      <td>Piastów</td>\n",
       "    </tr>\n",
       "    <tr>\n",
       "      <th>6</th>\n",
       "      <td>Warszawa</td>\n",
       "    </tr>\n",
       "    <tr>\n",
       "      <th>7</th>\n",
       "      <td>Płock</td>\n",
       "    </tr>\n",
       "    <tr>\n",
       "      <th>8</th>\n",
       "      <td>Granica</td>\n",
       "    </tr>\n",
       "    <tr>\n",
       "      <th>9</th>\n",
       "      <td>Otwock</td>\n",
       "    </tr>\n",
       "  </tbody>\n",
       "</table>\n",
       "</div>"
      ]
     },
     "metadata": {
      "application/vnd.databricks.v1+output": {
       "addedWidgets": {},
       "arguments": {},
       "data": "<div>\n<style scoped>\n    .dataframe tbody tr th:only-of-type {\n        vertical-align: middle;\n    }\n\n    .dataframe tbody tr th {\n        vertical-align: top;\n    }\n\n    .dataframe thead th {\n        text-align: right;\n    }\n</style>\n<table border=\"1\" class=\"dataframe\">\n  <thead>\n    <tr style=\"text-align: right;\">\n      <th></th>\n      <th>city</th>\n    </tr>\n  </thead>\n  <tbody>\n    <tr>\n      <th>0</th>\n      <td>Żyrardów</td>\n    </tr>\n    <tr>\n      <th>1</th>\n      <td>Belsk</td>\n    </tr>\n    <tr>\n      <th>2</th>\n      <td>Legionowo</td>\n    </tr>\n    <tr>\n      <th>3</th>\n      <td>Radom</td>\n    </tr>\n    <tr>\n      <th>4</th>\n      <td>Siedlce</td>\n    </tr>\n    <tr>\n      <th>5</th>\n      <td>Piastów</td>\n    </tr>\n    <tr>\n      <th>6</th>\n      <td>Warszawa</td>\n    </tr>\n    <tr>\n      <th>7</th>\n      <td>Płock</td>\n    </tr>\n    <tr>\n      <th>8</th>\n      <td>Granica</td>\n    </tr>\n    <tr>\n      <th>9</th>\n      <td>Otwock</td>\n    </tr>\n  </tbody>\n</table>\n</div>",
       "datasetInfos": [],
       "metadata": {},
       "removedWidgets": [],
       "textData": null,
       "type": "htmlSandbox"
      }
     },
     "output_type": "display_data"
    }
   ],
   "source": [
    "smog_df.filter(col('country')=='PL').select('city').distinct().toPandas()"
   ]
  },
  {
   "cell_type": "markdown",
   "metadata": {
    "application/vnd.databricks.v1+cell": {
     "cellMetadata": {
      "byteLimit": 2048000,
      "rowLimit": 10000
     },
     "inputWidgets": {},
     "nuid": "d660c8cd-06b6-495c-be40-63df2b4cd40f",
     "showTitle": false,
     "title": ""
    }
   },
   "source": [
    "### Some more interesting statistics"
   ]
  },
  {
   "cell_type": "code",
   "execution_count": 0,
   "metadata": {
    "application/vnd.databricks.v1+cell": {
     "cellMetadata": {
      "byteLimit": 2048000,
      "rowLimit": 10000
     },
     "inputWidgets": {},
     "nuid": "2d66c7bb-941a-4189-8c22-d4b5d286628d",
     "showTitle": false,
     "title": ""
    },
    "execution": {
     "iopub.execute_input": "2022-11-04T19:23:31.245899Z",
     "iopub.status.busy": "2022-11-04T19:23:31.245647Z",
     "iopub.status.idle": "2022-11-04T19:23:31.505221Z",
     "shell.execute_reply": "2022-11-04T19:23:31.504509Z",
     "shell.execute_reply.started": "2022-11-04T19:23:31.245864Z"
    }
   },
   "outputs": [],
   "source": [
    "max_pm10 = smog_df.filter(col('parameter')=='pm10')\\\n",
    "            .filter(col('value')>0.0)\\\n",
    "            .filter(col('country')=='PL')\\\n",
    "            .groupBy('city').agg(max('value').alias('maxpm10'))\\\n",
    "            .sort(col('maxpm10').desc())"
   ]
  },
  {
   "cell_type": "code",
   "execution_count": 0,
   "metadata": {
    "application/vnd.databricks.v1+cell": {
     "cellMetadata": {
      "byteLimit": 2048000,
      "rowLimit": 10000
     },
     "inputWidgets": {},
     "nuid": "f6be8a70-3c25-42b0-8d2b-299cd8695f43",
     "showTitle": false,
     "title": ""
    },
    "execution": {
     "iopub.execute_input": "2022-11-04T19:23:31.506847Z",
     "iopub.status.busy": "2022-11-04T19:23:31.506590Z",
     "iopub.status.idle": "2022-11-04T19:23:56.853311Z",
     "shell.execute_reply": "2022-11-04T19:23:56.852677Z",
     "shell.execute_reply.started": "2022-11-04T19:23:31.506811Z"
    }
   },
   "outputs": [],
   "source": [
    "pd_pm10 = max_pm10.limit(10).toPandas()"
   ]
  },
  {
   "cell_type": "code",
   "execution_count": 0,
   "metadata": {
    "application/vnd.databricks.v1+cell": {
     "cellMetadata": {
      "byteLimit": 2048000,
      "rowLimit": 10000
     },
     "inputWidgets": {},
     "nuid": "2c6ff99d-7785-496c-8ca9-c601b58348d7",
     "showTitle": false,
     "title": ""
    },
    "execution": {
     "iopub.execute_input": "2022-11-04T19:23:56.854730Z",
     "iopub.status.busy": "2022-11-04T19:23:56.854478Z",
     "iopub.status.idle": "2022-11-04T19:23:56.910195Z",
     "shell.execute_reply": "2022-11-04T19:23:56.909522Z",
     "shell.execute_reply.started": "2022-11-04T19:23:56.854696Z"
    }
   },
   "outputs": [
    {
     "output_type": "display_data",
     "data": {
      "text/html": [
       "<div>\n",
       "<style scoped>\n",
       "    .dataframe tbody tr th:only-of-type {\n",
       "        vertical-align: middle;\n",
       "    }\n",
       "\n",
       "    .dataframe tbody tr th {\n",
       "        vertical-align: top;\n",
       "    }\n",
       "\n",
       "    .dataframe thead th {\n",
       "        text-align: right;\n",
       "    }\n",
       "</style>\n",
       "<table border=\"1\" class=\"dataframe\">\n",
       "  <thead>\n",
       "    <tr style=\"text-align: right;\">\n",
       "      <th></th>\n",
       "      <th>city</th>\n",
       "      <th>maxpm10</th>\n",
       "    </tr>\n",
       "  </thead>\n",
       "  <tbody>\n",
       "    <tr>\n",
       "      <th>0</th>\n",
       "      <td>Siedlce</td>\n",
       "      <td>553.5</td>\n",
       "    </tr>\n",
       "    <tr>\n",
       "      <th>1</th>\n",
       "      <td>Otwock</td>\n",
       "      <td>520.8</td>\n",
       "    </tr>\n",
       "    <tr>\n",
       "      <th>2</th>\n",
       "      <td>Warszawa</td>\n",
       "      <td>453.7</td>\n",
       "    </tr>\n",
       "    <tr>\n",
       "      <th>3</th>\n",
       "      <td>Belsk</td>\n",
       "      <td>377.8</td>\n",
       "    </tr>\n",
       "    <tr>\n",
       "      <th>4</th>\n",
       "      <td>Radom</td>\n",
       "      <td>290.4</td>\n",
       "    </tr>\n",
       "    <tr>\n",
       "      <th>5</th>\n",
       "      <td>Żyrardów</td>\n",
       "      <td>255.0</td>\n",
       "    </tr>\n",
       "    <tr>\n",
       "      <th>6</th>\n",
       "      <td>Płock</td>\n",
       "      <td>178.0</td>\n",
       "    </tr>\n",
       "  </tbody>\n",
       "</table>\n",
       "</div>"
      ]
     },
     "metadata": {
      "application/vnd.databricks.v1+output": {
       "addedWidgets": {},
       "arguments": {},
       "data": "<div>\n<style scoped>\n    .dataframe tbody tr th:only-of-type {\n        vertical-align: middle;\n    }\n\n    .dataframe tbody tr th {\n        vertical-align: top;\n    }\n\n    .dataframe thead th {\n        text-align: right;\n    }\n</style>\n<table border=\"1\" class=\"dataframe\">\n  <thead>\n    <tr style=\"text-align: right;\">\n      <th></th>\n      <th>city</th>\n      <th>maxpm10</th>\n    </tr>\n  </thead>\n  <tbody>\n    <tr>\n      <th>0</th>\n      <td>Siedlce</td>\n      <td>553.5</td>\n    </tr>\n    <tr>\n      <th>1</th>\n      <td>Otwock</td>\n      <td>520.8</td>\n    </tr>\n    <tr>\n      <th>2</th>\n      <td>Warszawa</td>\n      <td>453.7</td>\n    </tr>\n    <tr>\n      <th>3</th>\n      <td>Belsk</td>\n      <td>377.8</td>\n    </tr>\n    <tr>\n      <th>4</th>\n      <td>Radom</td>\n      <td>290.4</td>\n    </tr>\n    <tr>\n      <th>5</th>\n      <td>Żyrardów</td>\n      <td>255.0</td>\n    </tr>\n    <tr>\n      <th>6</th>\n      <td>Płock</td>\n      <td>178.0</td>\n    </tr>\n  </tbody>\n</table>\n</div>",
       "datasetInfos": [],
       "metadata": {},
       "removedWidgets": [],
       "textData": null,
       "type": "htmlSandbox"
      }
     },
     "output_type": "display_data"
    }
   ],
   "source": [
    "pd_pm10"
   ]
  },
  {
   "cell_type": "code",
   "execution_count": 0,
   "metadata": {
    "application/vnd.databricks.v1+cell": {
     "cellMetadata": {
      "byteLimit": 2048000,
      "rowLimit": 10000
     },
     "inputWidgets": {},
     "nuid": "a4c2c755-f47c-4073-b325-728e5ac5dc6f",
     "showTitle": false,
     "title": ""
    },
    "execution": {
     "iopub.execute_input": "2022-11-04T19:23:56.911670Z",
     "iopub.status.busy": "2022-11-04T19:23:56.911395Z",
     "iopub.status.idle": "2022-11-04T19:23:58.182061Z",
     "shell.execute_reply": "2022-11-04T19:23:58.181379Z",
     "shell.execute_reply.started": "2022-11-04T19:23:56.911635Z"
    }
   },
   "outputs": [],
   "source": [
    "import matplotlib.pyplot as plt"
   ]
  },
  {
   "cell_type": "code",
   "execution_count": 0,
   "metadata": {
    "application/vnd.databricks.v1+cell": {
     "cellMetadata": {
      "byteLimit": 2048000,
      "rowLimit": 10000
     },
     "inputWidgets": {},
     "nuid": "27ace623-a54c-4cf1-955d-3049076fe6a5",
     "showTitle": false,
     "title": ""
    },
    "execution": {
     "iopub.execute_input": "2022-11-04T19:23:58.183292Z",
     "iopub.status.busy": "2022-11-04T19:23:58.183119Z",
     "iopub.status.idle": "2022-11-04T19:23:58.442767Z",
     "shell.execute_reply": "2022-11-04T19:23:58.441832Z",
     "shell.execute_reply.started": "2022-11-04T19:23:58.183271Z"
    }
   },
   "outputs": [
    {
     "output_type": "stream",
     "name": "stdout",
     "output_type": "stream",
     "text": [
      "Out[14]: <AxesSubplot:ylabel='city'>"
     ]
    },
    {
     "output_type": "display_data",
     "data": {
      "image/png": "[encoded data removed]"
     },
     "metadata": {
      "application/vnd.databricks.v1+output": {
       "addedWidgets": {},
       "arguments": {},
       "data": "data:image/png;base64,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\n",
       "datasetInfos": [],
       "metadata": {},
       "removedWidgets": [],
       "type": "image"
      }
     },
     "output_type": "display_data"
    }
   ],
   "source": [
    "pd_pm10.plot.barh(x = 'city')"
   ]
  },
  {
   "cell_type": "markdown",
   "metadata": {
    "application/vnd.databricks.v1+cell": {
     "cellMetadata": {
      "byteLimit": 2048000,
      "rowLimit": 10000
     },
     "inputWidgets": {},
     "nuid": "7ec5e78f-afec-49ed-a581-46f844bf97e1",
     "showTitle": false,
     "title": ""
    }
   },
   "source": [
    "### Zadanie 1"
   ]
  },
  {
   "cell_type": "markdown",
   "metadata": {
    "application/vnd.databricks.v1+cell": {
     "cellMetadata": {
      "byteLimit": 2048000,
      "rowLimit": 10000
     },
     "inputWidgets": {},
     "nuid": "61685347-aa06-4ced-817d-6c534b91d7b4",
     "showTitle": false,
     "title": ""
    }
   },
   "source": [
    "[1p.] Znajdź miasta w Polsce, w których średnie stężenie pyłu “pm25” było wyższe niż średnie stężenie w Paryżu (w całym badanym okresie). Wyniki posortuj malejąco po stężeniu pm25.\n"
   ]
  },
  {
   "cell_type": "code",
   "execution_count": 0,
   "metadata": {
    "application/vnd.databricks.v1+cell": {
     "cellMetadata": {
      "byteLimit": 2048000,
      "rowLimit": 10000
     },
     "inputWidgets": {},
     "nuid": "6b850871-1ef2-470f-a9f9-3ef2117c9039",
     "showTitle": false,
     "title": ""
    }
   },
   "outputs": [],
   "source": [
    "from pyspark.sql.functions import col, asc, desc, min, max, avg, hour, date_format, when, substring"
   ]
  },
  {
   "cell_type": "code",
   "execution_count": 0,
   "metadata": {
    "application/vnd.databricks.v1+cell": {
     "cellMetadata": {
      "byteLimit": 2048000,
      "rowLimit": 10000
     },
     "inputWidgets": {},
     "nuid": "d39306fa-346a-46b5-9023-ae664dde0d86",
     "showTitle": false,
     "title": ""
    }
   },
   "outputs": [],
   "source": [
    "avg_pm25_paris = smog_df.filter(col('parameter') == 'pm25').filter(col('city') == 'Paris').groupby(\"city\").agg(avg('value').alias('pm25'))"
   ]
  },
  {
   "cell_type": "code",
   "execution_count": 0,
   "metadata": {
    "application/vnd.databricks.v1+cell": {
     "cellMetadata": {
      "byteLimit": 2048000,
      "rowLimit": 10000
     },
     "inputWidgets": {},
     "nuid": "0ea33b73-58b2-4c54-95af-2af3b50d9581",
     "showTitle": false,
     "title": ""
    }
   },
   "outputs": [],
   "source": [
    "avg_pm25_poland = smog_df.filter(col('parameter') == 'pm25')\\\n",
    "    .filter(col('country') == 'PL')\\\n",
    "    .groupby('city').agg(avg('value').alias('avgpm25'))\\\n",
    "    .filter(col('avgpm25') > avg_pm25_paris.toPandas()['pm25'].get(0))\\\n",
    "    .sort(col('avgpm25').desc()).toPandas()"
   ]
  },
  {
   "cell_type": "code",
   "execution_count": 0,
   "metadata": {
    "application/vnd.databricks.v1+cell": {
     "cellMetadata": {
      "byteLimit": 2048000,
      "rowLimit": 10000
     },
     "inputWidgets": {},
     "nuid": "a09498ff-c3bf-42ce-ada9-3f19d6484095",
     "showTitle": false,
     "title": ""
    }
   },
   "outputs": [
    {
     "output_type": "display_data",
     "data": {
      "text/html": [
       "<div>\n",
       "<style scoped>\n",
       "    .dataframe tbody tr th:only-of-type {\n",
       "        vertical-align: middle;\n",
       "    }\n",
       "\n",
       "    .dataframe tbody tr th {\n",
       "        vertical-align: top;\n",
       "    }\n",
       "\n",
       "    .dataframe thead th {\n",
       "        text-align: right;\n",
       "    }\n",
       "</style>\n",
       "<table border=\"1\" class=\"dataframe\">\n",
       "  <thead>\n",
       "    <tr style=\"text-align: right;\">\n",
       "      <th></th>\n",
       "      <th>city</th>\n",
       "      <th>avgpm25</th>\n",
       "    </tr>\n",
       "  </thead>\n",
       "  <tbody>\n",
       "    <tr>\n",
       "      <th>0</th>\n",
       "      <td>Otwock</td>\n",
       "      <td>43.437584</td>\n",
       "    </tr>\n",
       "    <tr>\n",
       "      <th>1</th>\n",
       "      <td>Legionowo</td>\n",
       "      <td>30.980099</td>\n",
       "    </tr>\n",
       "    <tr>\n",
       "      <th>2</th>\n",
       "      <td>Siedlce</td>\n",
       "      <td>27.798031</td>\n",
       "    </tr>\n",
       "    <tr>\n",
       "      <th>3</th>\n",
       "      <td>Piastów</td>\n",
       "      <td>24.619989</td>\n",
       "    </tr>\n",
       "    <tr>\n",
       "      <th>4</th>\n",
       "      <td>Radom</td>\n",
       "      <td>23.975480</td>\n",
       "    </tr>\n",
       "    <tr>\n",
       "      <th>5</th>\n",
       "      <td>Warszawa</td>\n",
       "      <td>22.767612</td>\n",
       "    </tr>\n",
       "    <tr>\n",
       "      <th>6</th>\n",
       "      <td>Żyrardów</td>\n",
       "      <td>21.864097</td>\n",
       "    </tr>\n",
       "    <tr>\n",
       "      <th>7</th>\n",
       "      <td>Płock</td>\n",
       "      <td>19.011817</td>\n",
       "    </tr>\n",
       "  </tbody>\n",
       "</table>\n",
       "</div>"
      ]
     },
     "metadata": {
      "application/vnd.databricks.v1+output": {
       "addedWidgets": {},
       "arguments": {},
       "data": "<div>\n<style scoped>\n    .dataframe tbody tr th:only-of-type {\n        vertical-align: middle;\n    }\n\n    .dataframe tbody tr th {\n        vertical-align: top;\n    }\n\n    .dataframe thead th {\n        text-align: right;\n    }\n</style>\n<table border=\"1\" class=\"dataframe\">\n  <thead>\n    <tr style=\"text-align: right;\">\n      <th></th>\n      <th>city</th>\n      <th>avgpm25</th>\n    </tr>\n  </thead>\n  <tbody>\n    <tr>\n      <th>0</th>\n      <td>Otwock</td>\n      <td>43.437584</td>\n    </tr>\n    <tr>\n      <th>1</th>\n      <td>Legionowo</td>\n      <td>30.980099</td>\n    </tr>\n    <tr>\n      <th>2</th>\n      <td>Siedlce</td>\n      <td>27.798031</td>\n    </tr>\n    <tr>\n      <th>3</th>\n      <td>Piastów</td>\n      <td>24.619989</td>\n    </tr>\n    <tr>\n      <th>4</th>\n      <td>Radom</td>\n      <td>23.975480</td>\n    </tr>\n    <tr>\n      <th>5</th>\n      <td>Warszawa</td>\n      <td>22.767612</td>\n    </tr>\n    <tr>\n      <th>6</th>\n      <td>Żyrardów</td>\n      <td>21.864097</td>\n    </tr>\n    <tr>\n      <th>7</th>\n      <td>Płock</td>\n      <td>19.011817</td>\n    </tr>\n  </tbody>\n</table>\n</div>",
       "datasetInfos": [],
       "metadata": {},
       "removedWidgets": [],
       "textData": null,
       "type": "htmlSandbox"
      }
     },
     "output_type": "display_data"
    }
   ],
   "source": [
    "avg_pm25_poland"
   ]
  },
  {
   "cell_type": "markdown",
   "metadata": {
    "application/vnd.databricks.v1+cell": {
     "cellMetadata": {
      "byteLimit": 2048000,
      "rowLimit": 10000
     },
     "inputWidgets": {},
     "nuid": "cc6eeb86-dc5f-40f0-95a3-038839b31ca8",
     "showTitle": false,
     "title": ""
    }
   },
   "source": [
    "### Zadanie 2"
   ]
  },
  {
   "cell_type": "markdown",
   "metadata": {
    "application/vnd.databricks.v1+cell": {
     "cellMetadata": {
      "byteLimit": 2048000,
      "rowLimit": 10000
     },
     "inputWidgets": {},
     "nuid": "0f7a7da4-3572-41fd-94fa-3cdff5120aca",
     "showTitle": false,
     "title": ""
    }
   },
   "source": [
    "[1p.] Znajdź dla każdego kraju miasto o najniższym średnim stężeniu PM10. \n",
    "Następnie z tych miast wybierz to, które ma najwyższą średnią wartość stężenia PM10. \n",
    "Przedstaw miasto i kraj z którego pochodzi najwyzszy wynik z uzyskanych obliczeń.\n"
   ]
  },
  {
   "cell_type": "code",
   "execution_count": 0,
   "metadata": {
    "application/vnd.databricks.v1+cell": {
     "cellMetadata": {
      "byteLimit": 2048000,
      "rowLimit": 10000
     },
     "inputWidgets": {},
     "nuid": "96b85859-65c6-4ff7-8fce-0046cf6f3ec4",
     "showTitle": false,
     "title": ""
    }
   },
   "outputs": [
    {
     "output_type": "stream",
     "name": "stdout",
     "output_type": "stream",
     "text": [
      "+-------+-------+--------------------+------+---------+----------+----------+-----+-----+\n|   city|country|            location|mobile|parameter|sourcename|sourcetype| unit|value|\n+-------+-------+--------------------+------+---------+----------+----------+-----+-----+\n|Beijing|     CN|SPARTAN - Tsinghu...| false|     pm25|   Spartan|  research|µg/m³| 11.2|\n|Beijing|     CN|SPARTAN - Tsinghu...| false|     pm25|   Spartan|  research|µg/m³| 29.1|\n|Beijing|     CN|SPARTAN - Tsinghu...| false|     pm25|   Spartan|  research|µg/m³| 15.0|\n|Beijing|     CN|SPARTAN - Tsinghu...| false|     pm25|   Spartan|  research|µg/m³| 36.3|\n|Beijing|     CN|SPARTAN - Tsinghu...| false|     pm25|   Spartan|  research|µg/m³| 21.8|\n|Beijing|     CN|SPARTAN - Tsinghu...| false|     pm25|   Spartan|  research|µg/m³| 43.9|\n|Beijing|     CN|SPARTAN - Tsinghu...| false|     pm25|   Spartan|  research|µg/m³| 17.9|\n|Beijing|     CN|SPARTAN - Tsinghu...| false|     pm25|   Spartan|  research|µg/m³| 24.8|\n|Beijing|     CN|SPARTAN - Tsinghu...| false|     pm25|   Spartan|  research|µg/m³| 25.0|\n|Beijing|     CN|SPARTAN - Tsinghu...| false|     pm25|   Spartan|  research|µg/m³|  7.2|\n+-------+-------+--------------------+------+---------+----------+----------+-----+-----+\nonly showing top 10 rows\n\n"
     ]
    }
   ],
   "source": [
    "smog_df.show(10)"
   ]
  },
  {
   "cell_type": "code",
   "execution_count": 0,
   "metadata": {
    "application/vnd.databricks.v1+cell": {
     "cellMetadata": {
      "byteLimit": 2048000,
      "rowLimit": 10000
     },
     "inputWidgets": {},
     "nuid": "3cc0a8b2-e9c7-47f4-be41-0eefb6f54e93",
     "showTitle": false,
     "title": ""
    }
   },
   "outputs": [],
   "source": [
    "df_countries = smog_df.filter(col('parameter') == 'pm10')\\\n",
    "    .select('country','city','value')\\\n",
    "    .groupby('country','city').agg(avg('value').alias('avg_value'))"
   ]
  },
  {
   "cell_type": "code",
   "execution_count": 0,
   "metadata": {
    "application/vnd.databricks.v1+cell": {
     "cellMetadata": {
      "byteLimit": 2048000,
      "rowLimit": 10000
     },
     "inputWidgets": {},
     "nuid": "822b6404-70d5-4cab-a48f-907c07e5d684",
     "showTitle": false,
     "title": ""
    }
   },
   "outputs": [
    {
     "output_type": "stream",
     "name": "stdout",
     "output_type": "stream",
     "text": [
      "+-------+--------------------+------------------+\n|country|                city|         avg_value|\n+-------+--------------------+------------------+\n|     BR|          Araraquara|28.650975228376264|\n|     NL|              Velsen|-49.96493263631261|\n|     TH|        Samut Sakhon| 45.95988894571491|\n|     US|Greensboro-High P...|11.031193915049995|\n|     TW|              南投縣| 48.29286798179059|\n|     US|            FLATHEAD|19.297399917457696|\n|     DE| Nordrhein-Westfalen| 17.21895105847117|\n|     IN|             Kolkata|108.12000659498223|\n|     US|              Topeka| 19.80150839904011|\n|     US|            Stockton|23.152580403889303|\n+-------+--------------------+------------------+\nonly showing top 10 rows\n\n"
     ]
    }
   ],
   "source": [
    "df_countries.show(10)"
   ]
  },
  {
   "cell_type": "code",
   "execution_count": 0,
   "metadata": {
    "application/vnd.databricks.v1+cell": {
     "cellMetadata": {
      "byteLimit": 2048000,
      "rowLimit": 10000
     },
     "inputWidgets": {},
     "nuid": "efefafa1-8a91-43c2-bc24-fa4cc595a4db",
     "showTitle": false,
     "title": ""
    }
   },
   "outputs": [],
   "source": [
    "df_countries_min = df_countries.alias(\"c1\")\\\n",
    "    .select('c1.country','c1.city','avg_value')\\\n",
    "    .groupby('country').agg(min('avg_value').alias('min_value'))\\\n",
    "    .join(df_countries.alias('c2'), (col('c2.country') == col('c1.country')) & (col('avg_value') == col('min_value')))\\\n",
    "    .select('c2.country', 'c2.city', 'min_value')\\\n",
    "    .sort(col('min_value').desc()).toPandas()"
   ]
  },
  {
   "cell_type": "code",
   "execution_count": 0,
   "metadata": {
    "application/vnd.databricks.v1+cell": {
     "cellMetadata": {
      "byteLimit": 2048000,
      "rowLimit": 10000
     },
     "inputWidgets": {},
     "nuid": "e890c531-d3b1-42f1-84cd-219c820aa77d",
     "showTitle": false,
     "title": ""
    }
   },
   "outputs": [
    {
     "output_type": "display_data",
     "data": {
      "text/html": [
       "<div>\n",
       "<style scoped>\n",
       "    .dataframe tbody tr th:only-of-type {\n",
       "        vertical-align: middle;\n",
       "    }\n",
       "\n",
       "    .dataframe tbody tr th {\n",
       "        vertical-align: top;\n",
       "    }\n",
       "\n",
       "    .dataframe thead th {\n",
       "        text-align: right;\n",
       "    }\n",
       "</style>\n",
       "<table border=\"1\" class=\"dataframe\">\n",
       "  <thead>\n",
       "    <tr style=\"text-align: right;\">\n",
       "      <th></th>\n",
       "      <th>country</th>\n",
       "      <th>city</th>\n",
       "      <th>min_value</th>\n",
       "    </tr>\n",
       "  </thead>\n",
       "  <tbody>\n",
       "    <tr>\n",
       "      <th>0</th>\n",
       "      <td>PE</td>\n",
       "      <td>Lima</td>\n",
       "      <td>80.093523</td>\n",
       "    </tr>\n",
       "  </tbody>\n",
       "</table>\n",
       "</div>"
      ]
     },
     "metadata": {
      "application/vnd.databricks.v1+output": {
       "addedWidgets": {},
       "arguments": {},
       "data": "<div>\n<style scoped>\n    .dataframe tbody tr th:only-of-type {\n        vertical-align: middle;\n    }\n\n    .dataframe tbody tr th {\n        vertical-align: top;\n    }\n\n    .dataframe thead th {\n        text-align: right;\n    }\n</style>\n<table border=\"1\" class=\"dataframe\">\n  <thead>\n    <tr style=\"text-align: right;\">\n      <th></th>\n      <th>country</th>\n      <th>city</th>\n      <th>min_value</th>\n    </tr>\n  </thead>\n  <tbody>\n    <tr>\n      <th>0</th>\n      <td>PE</td>\n      <td>Lima</td>\n      <td>80.093523</td>\n    </tr>\n  </tbody>\n</table>\n</div>",
       "datasetInfos": [],
       "metadata": {},
       "removedWidgets": [],
       "textData": null,
       "type": "htmlSandbox"
      }
     },
     "output_type": "display_data"
    }
   ],
   "source": [
    "df_countries_min.head(1)"
   ]
  },
  {
   "cell_type": "markdown",
   "metadata": {
    "application/vnd.databricks.v1+cell": {
     "cellMetadata": {
      "byteLimit": 2048000,
      "rowLimit": 10000
     },
     "inputWidgets": {},
     "nuid": "2019baac-5093-4213-97c0-a5e0b6850399",
     "showTitle": false,
     "title": ""
    }
   },
   "source": [
    "### Zadanie 3"
   ]
  },
  {
   "cell_type": "markdown",
   "metadata": {
    "application/vnd.databricks.v1+cell": {
     "cellMetadata": {
      "byteLimit": 2048000,
      "rowLimit": 10000
     },
     "inputWidgets": {},
     "nuid": "329e8235-d151-4b79-8d2f-4199d51ae4f4",
     "showTitle": false,
     "title": ""
    }
   },
   "source": [
    "[1p.] Znajdź ranking miast w Europie pod względem średniego zanieczyszczenia liczonego dla N najwyższych pomiarów pod względem “pm25” dla danych z kilku dni. \n",
    "Podpowiedź: Wykorzystaj window functions oraz `rlike`\n"
   ]
  },
  {
   "cell_type": "code",
   "execution_count": 0,
   "metadata": {
    "application/vnd.databricks.v1+cell": {
     "cellMetadata": {
      "byteLimit": 2048000,
      "rowLimit": 10000
     },
     "inputWidgets": {},
     "nuid": "8d3aa3ab-451e-4ca5-8a50-a1a86acd612d",
     "showTitle": false,
     "title": ""
    }
   },
   "outputs": [],
   "source": [
    "european_countries = set(['LT', 'FI', 'NL', 'PL', 'MK', 'AT', 'RU', 'AD', 'HR', 'CZ', 'PT', 'ES', 'TR', 'GB', 'MT', 'DE', 'BH', 'IT', 'FR', 'CH', 'GI', 'BA', 'SE', 'SK', 'LV', 'XK', 'HU', 'SI', 'KW', 'IE', 'BE', 'NO', 'LU', 'DK'])"
   ]
  },
  {
   "cell_type": "code",
   "execution_count": 0,
   "metadata": {
    "application/vnd.databricks.v1+cell": {
     "cellMetadata": {
      "byteLimit": 2048000,
      "rowLimit": 10000
     },
     "inputWidgets": {},
     "nuid": "5709e99d-8132-4389-8ec2-8661a111be3f",
     "showTitle": false,
     "title": ""
    }
   },
   "outputs": [
    {
     "output_type": "stream",
     "name": "stdout",
     "output_type": "stream",
     "text": [
      "+--------------------+------------+\n|                city|average_pm25|\n+--------------------+------------+\n|              Bayern|     2055.18|\n| Nordrhein-Westfalen|    1290.858|\n|                 ORA|     1271.73|\n|               Loire|     1053.53|\n|CCAA Cast. la Mancha|       998.0|\n|       CCAA Asturias|       994.0|\n|            Albacete|       989.0|\n|          Val-d'Oise|       985.0|\n|  ATMO FRANCHE COMTE|       985.0|\n|         AIR NORMAND|       985.0|\n|ATMO NOUVELLE-AQU...|       985.0|\n|         Kuwait City|       985.0|\n|      Seine-Maritime|       985.0|\n|ATMO BOURGOGNE-FR...|      982.73|\n|               AIRAQ|       977.5|\n|ATMOSF'AIR BOURGOGNE|      975.08|\n|               Paris|      967.98|\n|     AIR RHONE ALPES|       891.0|\n|ATMO AUVERGNE-RH�...|      877.05|\n|              Manama|       866.0|\n+--------------------+------------+\nonly showing top 20 rows\n\n"
     ]
    }
   ],
   "source": [
    "from pyspark.sql.window import Window\n",
    "from pyspark.sql.functions import row_number\n",
    "N = 1\n",
    "rank = smog_df.filter(col('parameter')=='pm25')\\\n",
    "    .filter(col('country').isin(european_countries))\\\n",
    "    .withColumn(\"rank\", row_number().over(Window.partitionBy(\"city\").orderBy(desc(\"value\"))))\\\n",
    "    .filter(col('rank') <= N)\\\n",
    "    .groupBy(\"city\").agg(avg(\"value\").alias(\"average_pm25\"))\\\n",
    "    .sort(col('average_pm25').desc())\\\n",
    "    .show()"
   ]
  },
  {
   "cell_type": "markdown",
   "metadata": {
    "application/vnd.databricks.v1+cell": {
     "cellMetadata": {
      "byteLimit": 2048000,
      "rowLimit": 10000
     },
     "inputWidgets": {},
     "nuid": "dbf57444-ccfe-454f-89b4-a46cc48d86b1",
     "showTitle": false,
     "title": ""
    }
   },
   "source": [
    "### Zadanie 4"
   ]
  },
  {
   "cell_type": "markdown",
   "metadata": {
    "application/vnd.databricks.v1+cell": {
     "cellMetadata": {
      "byteLimit": 2048000,
      "rowLimit": 10000
     },
     "inputWidgets": {},
     "nuid": "710d2bfc-cd62-47ec-8399-ce2ed7c19667",
     "showTitle": false,
     "title": ""
    }
   },
   "source": [
    "[1p.] Zwizualizuj na mapie średnie zanieczyszczenie w danym kraju. Do pozyskania danych o współrzędnych geograficznych można użyć biblioteki geopy.\n"
   ]
  },
  {
   "cell_type": "code",
   "execution_count": 0,
   "metadata": {
    "application/vnd.databricks.v1+cell": {
     "cellMetadata": {
      "byteLimit": 2048000,
      "rowLimit": 10000
     },
     "inputWidgets": {},
     "nuid": "b2d52659-b5f5-42a1-9a91-30ac0758a7f5",
     "showTitle": false,
     "title": ""
    }
   },
   "outputs": [],
   "source": [
    "from pyspark.sql.functions import substring\n",
    "from pyspark.sql.column import Column\n",
    " \n",
    "def left(col, n):\n",
    "    assert isinstance(col, (Column, str))\n",
    "    assert isinstance(n, int) and n >= 0\n",
    "    return substring(col, 0, n)\n",
    " \n",
    "def right(col, n):\n",
    "    assert isinstance(col, (Column, str))\n",
    "    assert isinstance(n, int) and n >= 0\n",
    "    return substring(col, -n, n)\n"
   ]
  },
  {
   "cell_type": "code",
   "execution_count": 0,
   "metadata": {
    "application/vnd.databricks.v1+cell": {
     "cellMetadata": {
      "byteLimit": 2048000,
      "rowLimit": 10000
     },
     "inputWidgets": {},
     "nuid": "6dda0fd8-a80c-4e8a-abb2-a6c24263f5e5",
     "showTitle": false,
     "title": ""
    }
   },
   "outputs": [],
   "source": [
    "country_codes = spark.read.load(\"/FileStore/tables/countries_codes_and_coordinates-1.csv\",\n",
    "                     format=\"csv\", sep=\",\", inferSchema=\"true\", header=\"true\")\n",
    " \n",
    "cc=country_codes.select('Alpha-2 code','Alpha-3 code').withColumnRenamed('Alpha-2 code', 'A2').withColumnRenamed('Alpha-3 code', 'A3')"
   ]
  },
  {
   "cell_type": "code",
   "execution_count": 0,
   "metadata": {
    "application/vnd.databricks.v1+cell": {
     "cellMetadata": {
      "byteLimit": 2048000,
      "rowLimit": 10000
     },
     "inputWidgets": {},
     "nuid": "6ad41c3b-cd93-43b2-ba20-2ed4fc9476de",
     "showTitle": false,
     "title": ""
    }
   },
   "outputs": [
    {
     "output_type": "stream",
     "name": "stdout",
     "output_type": "stream",
     "text": [
      "Out[58]: [Row(A2='AF', A3='AFG'),\n Row(A2='AL', A3='ALB'),\n Row(A2='DZ', A3='DZA'),\n Row(A2='AS', A3='ASM'),\n Row(A2='AD', A3='AND'),\n Row(A2='AO', A3='AGO'),\n Row(A2='AI', A3='AIA'),\n Row(A2='AQ', A3='ATA'),\n Row(A2='AG', A3='ATG'),\n Row(A2='AR', A3='ARG')]"
     ]
    }
   ],
   "source": [
    "cc.head(10)"
   ]
  },
  {
   "cell_type": "code",
   "execution_count": 0,
   "metadata": {
    "application/vnd.databricks.v1+cell": {
     "cellMetadata": {
      "byteLimit": 2048000,
      "rowLimit": 10000
     },
     "inputWidgets": {},
     "nuid": "391317b7-c194-46c9-9a30-0533a48dbba2",
     "showTitle": false,
     "title": ""
    }
   },
   "outputs": [],
   "source": [
    "cc=cc.select(left(right(cc.A2,3), 2).alias('A2'),left(right(cc.A3,4), 3).alias('A3'))"
   ]
  },
  {
   "cell_type": "code",
   "execution_count": 0,
   "metadata": {
    "application/vnd.databricks.v1+cell": {
     "cellMetadata": {
      "byteLimit": 2048000,
      "rowLimit": 10000
     },
     "inputWidgets": {},
     "nuid": "a149516b-4b15-4f6b-af96-b3b3ae592f7c",
     "showTitle": false,
     "title": ""
    }
   },
   "outputs": [
    {
     "output_type": "display_data",
     "data": {
      "text/html": [
       "<html>\n",
       "<head><meta charset=\"utf-8\" /></head>\n",
       "<body>\n",
       "    <div>            <script src=\"https://cdnjs.cloudflare.com/ajax/libs/mathjax/2.7.5/MathJax.js?config=TeX-AMS-MML_SVG\"></script><script type=\"text/javascript\">if (window.MathJax) {MathJax.Hub.Config({SVG: {font: \"STIX-Web\"}});}</script>                <script type=\"text/javascript\">window.PlotlyConfig = {MathJaxConfig: 'local'};</script>\n",
       "        <script src=\"https://cdn.plot.ly/plotly-2.9.0.min.js\"></script>                <div id=\"f4341135-2985-4ee9-98c5-ca0149cb7a5a\" class=\"plotly-graph-div\" style=\"height:100%; width:100%;\"></div>            <script type=\"text/javascript\">                                    window.PLOTLYENV=window.PLOTLYENV || {};                                    if (document.getElementById(\"f4341135-2985-4ee9-98c5-ca0149cb7a5a\")) {                    Plotly.newPlot(                        \"f4341135-2985-4ee9-98c5-ca0149cb7a5a\",                        [{\"coloraxis\":\"coloraxis\",\"geo\":\"geo\",\"hovertemplate\":\"<b>%{hovertext}</b><br><br>A3=%{location}<br>avg_pm25=%{z}<extra></extra>\",\"hovertext\":[\"POL\",\"BRA\",\"FRA\",\"ETH\",\"ITA\",\"HRV\",\"GBR\",\"ARE\",\"NPL\",\"UGA\",\"AUS\",\"MLT\",\"MEX\",\"BGD\",\"MNG\",\"SVK\",\"HUN\",\"NOR\",\"FIN\",\"BHR\",\"BIH\",\"KWT\",\"PER\",\"NLD\",\"LUX\",\"USA\",\"VNM\",\"ISR\",\"PRT\",\"LTU\",\"TWN\",\"CHL\",\"CAN\",\"COL\",\"ARG\",\"ESP\",\"LKA\",\"IRL\",\"SWE\",\"NGA\",\"SGP\",\"IND\",\"HKG\",\"BEL\",\"CHN\",\"IDN\",\"DEU\",\"CHE\",\"CZE\",\"PHL\"],\"locationmode\":\"ISO-3\",\"locations\":[\"POL\",\"BRA\",\"FRA\",\"ETH\",\"ITA\",\"HRV\",\"GBR\",\"ARE\",\"NPL\",\"UGA\",\"AUS\",\"MLT\",\"MEX\",\"BGD\",\"MNG\",\"SVK\",\"HUN\",\"NOR\",\"FIN\",\"BHR\",\"BIH\",\"KWT\",\"PER\",\"NLD\",\"LUX\",\"USA\",\"VNM\",\"ISR\",\"PRT\",\"LTU\",\"TWN\",\"CHL\",\"CAN\",\"COL\",\"ARG\",\"ESP\",\"LKA\",\"IRL\",\"SWE\",\"NGA\",\"SGP\",\"IND\",\"HKG\",\"BEL\",\"CHN\",\"IDN\",\"DEU\",\"CHE\",\"CZE\",\"PHL\"],\"name\":\"\",\"z\":[24.05361748247105,14.630584294487273,9.960313034480015,-435.2741653418124,-22.886323268206038,14.237460136670459,10.776040840142873,52.7,-91.86053140719721,-123.0183768854897,-21.511865203092885,11.88986175115207,22.20273606065776,32.13314544189282,77.67223623416164,17.42278965966434,16.353211548137836,7.103009350039276,4.898735181680247,-56.06142208774585,20.932474446337306,-2.0292786122276287,-6.924393026596961,-58.46695675234298,9.039786894273128,7.566906641680973,-21.38857947326857,13.814184008762325,10.996505444416316,5.393878239408116,24.246843897879113,23.868745652311866,6.000373120291121,-114.96591739908223,10.1811683006536,11.143708164850828,-69.1996161228407,6.871576834401243,-0.9766297279278378,16.333215269578904,70.59294117647057,70.64616595583713,32.69377682403434,13.03198122948369,-15.983701066866066,-8.286981190255936,10.753844381179599,8.920515137067937,18.23558088646888,17.2321503131524],\"type\":\"choropleth\"}],                        {\"template\":{\"data\":{\"bar\":[{\"error_x\":{\"color\":\"#2a3f5f\"},\"error_y\":{\"color\":\"#2a3f5f\"},\"marker\":{\"line\":{\"color\":\"#E5ECF6\",\"width\":0.5},\"pattern\":{\"fillmode\":\"overlay\",\"size\":10,\"solidity\":0.2}},\"type\":\"bar\"}],\"barpolar\":[{\"marker\":{\"line\":{\"color\":\"#E5ECF6\",\"width\":0.5},\"pattern\":{\"fillmode\":\"overlay\",\"size\":10,\"solidity\":0.2}},\"type\":\"barpolar\"}],\"carpet\":[{\"aaxis\":{\"endlinecolor\":\"#2a3f5f\",\"gridcolor\":\"white\",\"linecolor\":\"white\",\"minorgridcolor\":\"white\",\"startlinecolor\":\"#2a3f5f\"},\"baxis\":{\"endlinecolor\":\"#2a3f5f\",\"gridcolor\":\"white\",\"linecolor\":\"white\",\"minorgridcolor\":\"white\",\"startlinecolor\":\"#2a3f5f\"},\"type\":\"carpet\"}],\"choropleth\":[{\"colorbar\":{\"outlinewidth\":0,\"ticks\":\"\"},\"type\":\"choropleth\"}],\"contour\":[{\"colorbar\":{\"outlinewidth\":0,\"ticks\":\"\"},\"colorscale\":[[0.0,\"#0d0887\"],[0.1111111111111111,\"#46039f\"],[0.2222222222222222,\"#7201a8\"],[0.3333333333333333,\"#9c179e\"],[0.4444444444444444,\"#bd3786\"],[0.5555555555555556,\"#d8576b\"],[0.6666666666666666,\"#ed7953\"],[0.7777777777777778,\"#fb9f3a\"],[0.8888888888888888,\"#fdca26\"],[1.0,\"#f0f921\"]],\"type\":\"contour\"}],\"contourcarpet\":[{\"colorbar\":{\"outlinewidth\":0,\"ticks\":\"\"},\"type\":\"contourcarpet\"}],\"heatmap\":[{\"colorbar\":{\"outlinewidth\":0,\"ticks\":\"\"},\"colorscale\":[[0.0,\"#0d0887\"],[0.1111111111111111,\"#46039f\"],[0.2222222222222222,\"#7201a8\"],[0.3333333333333333,\"#9c179e\"],[0.4444444444444444,\"#bd3786\"],[0.5555555555555556,\"#d8576b\"],[0.6666666666666666,\"#ed7953\"],[0.7777777777777778,\"#fb9f3a\"],[0.8888888888888888,\"#fdca26\"],[1.0,\"#f0f921\"]],\"type\":\"heatmap\"}],\"heatmapgl\":[{\"colorbar\":{\"outlinewidth\":0,\"ticks\":\"\"},\"colorscale\":[[0.0,\"#0d0887\"],[0.1111111111111111,\"#46039f\"],[0.2222222222222222,\"#7201a8\"],[0.3333333333333333,\"#9c179e\"],[0.4444444444444444,\"#bd3786\"],[0.5555555555555556,\"#d8576b\"],[0.6666666666666666,\"#ed7953\"],[0.7777777777777778,\"#fb9f3a\"],[0.8888888888888888,\"#fdca26\"],[1.0,\"#f0f921\"]],\"type\":\"heatmapgl\"}],\"histogram\":[{\"marker\":{\"pattern\":{\"fillmode\":\"overlay\",\"size\":10,\"solidity\":0.2}},\"type\":\"histogram\"}],\"histogram2d\":[{\"colorbar\":{\"outlinewidth\":0,\"ticks\":\"\"},\"colorscale\":[[0.0,\"#0d0887\"],[0.1111111111111111,\"#46039f\"],[0.2222222222222222,\"#7201a8\"],[0.3333333333333333,\"#9c179e\"],[0.4444444444444444,\"#bd3786\"],[0.5555555555555556,\"#d8576b\"],[0.6666666666666666,\"#ed7953\"],[0.7777777777777778,\"#fb9f3a\"],[0.8888888888888888,\"#fdca26\"],[1.0,\"#f0f921\"]],\"type\":\"histogram2d\"}],\"histogram2dcontour\":[{\"colorbar\":{\"outlinewidth\":0,\"ticks\":\"\"},\"colorscale\":[[0.0,\"#0d0887\"],[0.1111111111111111,\"#46039f\"],[0.2222222222222222,\"#7201a8\"],[0.3333333333333333,\"#9c179e\"],[0.4444444444444444,\"#bd3786\"],[0.5555555555555556,\"#d8576b\"],[0.6666666666666666,\"#ed7953\"],[0.7777777777777778,\"#fb9f3a\"],[0.8888888888888888,\"#fdca26\"],[1.0,\"#f0f921\"]],\"type\":\"histogram2dcontour\"}],\"mesh3d\":[{\"colorbar\":{\"outlinewidth\":0,\"ticks\":\"\"},\"type\":\"mesh3d\"}],\"parcoords\":[{\"line\":{\"colorbar\":{\"outlinewidth\":0,\"ticks\":\"\"}},\"type\":\"parcoords\"}],\"pie\":[{\"automargin\":true,\"type\":\"pie\"}],\"scatter\":[{\"marker\":{\"colorbar\":{\"outlinewidth\":0,\"ticks\":\"\"}},\"type\":\"scatter\"}],\"scatter3d\":[{\"line\":{\"colorbar\":{\"outlinewidth\":0,\"ticks\":\"\"}},\"marker\":{\"colorbar\":{\"outlinewidth\":0,\"ticks\":\"\"}},\"type\":\"scatter3d\"}],\"scattercarpet\":[{\"marker\":{\"colorbar\":{\"outlinewidth\":0,\"ticks\":\"\"}},\"type\":\"scattercarpet\"}],\"scattergeo\":[{\"marker\":{\"colorbar\":{\"outlinewidth\":0,\"ticks\":\"\"}},\"type\":\"scattergeo\"}],\"scattergl\":[{\"marker\":{\"colorbar\":{\"outlinewidth\":0,\"ticks\":\"\"}},\"type\":\"scattergl\"}],\"scattermapbox\":[{\"marker\":{\"colorbar\":{\"outlinewidth\":0,\"ticks\":\"\"}},\"type\":\"scattermapbox\"}],\"scatterpolar\":[{\"marker\":{\"colorbar\":{\"outlinewidth\":0,\"ticks\":\"\"}},\"type\":\"scatterpolar\"}],\"scatterpolargl\":[{\"marker\":{\"colorbar\":{\"outlinewidth\":0,\"ticks\":\"\"}},\"type\":\"scatterpolargl\"}],\"scatterternary\":[{\"marker\":{\"colorbar\":{\"outlinewidth\":0,\"ticks\":\"\"}},\"type\":\"scatterternary\"}],\"surface\":[{\"colorbar\":{\"outlinewidth\":0,\"ticks\":\"\"},\"colorscale\":[[0.0,\"#0d0887\"],[0.1111111111111111,\"#46039f\"],[0.2222222222222222,\"#7201a8\"],[0.3333333333333333,\"#9c179e\"],[0.4444444444444444,\"#bd3786\"],[0.5555555555555556,\"#d8576b\"],[0.6666666666666666,\"#ed7953\"],[0.7777777777777778,\"#fb9f3a\"],[0.8888888888888888,\"#fdca26\"],[1.0,\"#f0f921\"]],\"type\":\"surface\"}],\"table\":[{\"cells\":{\"fill\":{\"color\":\"#EBF0F8\"},\"line\":{\"color\":\"white\"}},\"header\":{\"fill\":{\"color\":\"#C8D4E3\"},\"line\":{\"color\":\"white\"}},\"type\":\"table\"}]},\"layout\":{\"annotationdefaults\":{\"arrowcolor\":\"#2a3f5f\",\"arrowhead\":0,\"arrowwidth\":1},\"autotypenumbers\":\"strict\",\"coloraxis\":{\"colorbar\":{\"outlinewidth\":0,\"ticks\":\"\"}},\"colorscale\":{\"diverging\":[[0,\"#8e0152\"],[0.1,\"#c51b7d\"],[0.2,\"#de77ae\"],[0.3,\"#f1b6da\"],[0.4,\"#fde0ef\"],[0.5,\"#f7f7f7\"],[0.6,\"#e6f5d0\"],[0.7,\"#b8e186\"],[0.8,\"#7fbc41\"],[0.9,\"#4d9221\"],[1,\"#276419\"]],\"sequential\":[[0.0,\"#0d0887\"],[0.1111111111111111,\"#46039f\"],[0.2222222222222222,\"#7201a8\"],[0.3333333333333333,\"#9c179e\"],[0.4444444444444444,\"#bd3786\"],[0.5555555555555556,\"#d8576b\"],[0.6666666666666666,\"#ed7953\"],[0.7777777777777778,\"#fb9f3a\"],[0.8888888888888888,\"#fdca26\"],[1.0,\"#f0f921\"]],\"sequentialminus\":[[0.0,\"#0d0887\"],[0.1111111111111111,\"#46039f\"],[0.2222222222222222,\"#7201a8\"],[0.3333333333333333,\"#9c179e\"],[0.4444444444444444,\"#bd3786\"],[0.5555555555555556,\"#d8576b\"],[0.6666666666666666,\"#ed7953\"],[0.7777777777777778,\"#fb9f3a\"],[0.8888888888888888,\"#fdca26\"],[1.0,\"#f0f921\"]]},\"colorway\":[\"#636efa\",\"#EF553B\",\"#00cc96\",\"#ab63fa\",\"#FFA15A\",\"#19d3f3\",\"#FF6692\",\"#B6E880\",\"#FF97FF\",\"#FECB52\"],\"font\":{\"color\":\"#2a3f5f\"},\"geo\":{\"bgcolor\":\"white\",\"lakecolor\":\"white\",\"landcolor\":\"#E5ECF6\",\"showlakes\":true,\"showland\":true,\"subunitcolor\":\"white\"},\"hoverlabel\":{\"align\":\"left\"},\"hovermode\":\"closest\",\"mapbox\":{\"style\":\"light\"},\"paper_bgcolor\":\"white\",\"plot_bgcolor\":\"#E5ECF6\",\"polar\":{\"angularaxis\":{\"gridcolor\":\"white\",\"linecolor\":\"white\",\"ticks\":\"\"},\"bgcolor\":\"#E5ECF6\",\"radialaxis\":{\"gridcolor\":\"white\",\"linecolor\":\"white\",\"ticks\":\"\"}},\"scene\":{\"xaxis\":{\"backgroundcolor\":\"#E5ECF6\",\"gridcolor\":\"white\",\"gridwidth\":2,\"linecolor\":\"white\",\"showbackground\":true,\"ticks\":\"\",\"zerolinecolor\":\"white\"},\"yaxis\":{\"backgroundcolor\":\"#E5ECF6\",\"gridcolor\":\"white\",\"gridwidth\":2,\"linecolor\":\"white\",\"showbackground\":true,\"ticks\":\"\",\"zerolinecolor\":\"white\"},\"zaxis\":{\"backgroundcolor\":\"#E5ECF6\",\"gridcolor\":\"white\",\"gridwidth\":2,\"linecolor\":\"white\",\"showbackground\":true,\"ticks\":\"\",\"zerolinecolor\":\"white\"}},\"shapedefaults\":{\"line\":{\"color\":\"#2a3f5f\"}},\"ternary\":{\"aaxis\":{\"gridcolor\":\"white\",\"linecolor\":\"white\",\"ticks\":\"\"},\"baxis\":{\"gridcolor\":\"white\",\"linecolor\":\"white\",\"ticks\":\"\"},\"bgcolor\":\"#E5ECF6\",\"caxis\":{\"gridcolor\":\"white\",\"linecolor\":\"white\",\"ticks\":\"\"}},\"title\":{\"x\":0.05},\"xaxis\":{\"automargin\":true,\"gridcolor\":\"white\",\"linecolor\":\"white\",\"ticks\":\"\",\"title\":{\"standoff\":15},\"zerolinecolor\":\"white\",\"zerolinewidth\":2},\"yaxis\":{\"automargin\":true,\"gridcolor\":\"white\",\"linecolor\":\"white\",\"ticks\":\"\",\"title\":{\"standoff\":15},\"zerolinecolor\":\"white\",\"zerolinewidth\":2}}},\"geo\":{\"domain\":{\"x\":[0.0,1.0],\"y\":[0.0,1.0]},\"center\":{}},\"coloraxis\":{\"colorbar\":{\"title\":{\"text\":\"avg_pm25\"}},\"colorscale\":[[0.0,\"#0d0887\"],[0.1111111111111111,\"#46039f\"],[0.2222222222222222,\"#7201a8\"],[0.3333333333333333,\"#9c179e\"],[0.4444444444444444,\"#bd3786\"],[0.5555555555555556,\"#d8576b\"],[0.6666666666666666,\"#ed7953\"],[0.7777777777777778,\"#fb9f3a\"],[0.8888888888888888,\"#fdca26\"],[1.0,\"#f0f921\"]]},\"legend\":{\"tracegroupgap\":0},\"margin\":{\"t\":60}},                        {\"responsive\": true}                    )                };                            </script>        </div>\n",
       "</body>\n",
       "</html>"
      ]
     },
     "metadata": {
      "application/vnd.databricks.v1+output": {
       "addedWidgets": {},
       "arguments": {},
       "data": "<html>\n<head><meta charset=\"utf-8\" /></head>\n<body>\n    <div>            <script src=\"https://cdnjs.cloudflare.com/ajax/libs/mathjax/2.7.5/MathJax.js?config=TeX-AMS-MML_SVG\"></script><script type=\"text/javascript\">if (window.MathJax) {MathJax.Hub.Config({SVG: {font: \"STIX-Web\"}});}</script>                <script type=\"text/javascript\">window.PlotlyConfig = {MathJaxConfig: 'local'};</script>\n        <script src=\"https://cdn.plot.ly/plotly-2.9.0.min.js\"></script>                <div id=\"f4341135-2985-4ee9-98c5-ca0149cb7a5a\" class=\"plotly-graph-div\" style=\"height:100%; width:100%;\"></div>            <script type=\"text/javascript\">                                    window.PLOTLYENV=window.PLOTLYENV || {};                                    if (document.getElementById(\"f4341135-2985-4ee9-98c5-ca0149cb7a5a\")) {                    Plotly.newPlot(                        \"f4341135-2985-4ee9-98c5-ca0149cb7a5a\",                        [{\"coloraxis\":\"coloraxis\",\"geo\":\"geo\",\"hovertemplate\":\"<b>%{hovertext}</b><br><br>A3=%{location}<br>avg_pm25=%{z}<extra></extra>\",\"hovertext\":[\"POL\",\"BRA\",\"FRA\",\"ETH\",\"ITA\",\"HRV\",\"GBR\",\"ARE\",\"NPL\",\"UGA\",\"AUS\",\"MLT\",\"MEX\",\"BGD\",\"MNG\",\"SVK\",\"HUN\",\"NOR\",\"FIN\",\"BHR\",\"BIH\",\"KWT\",\"PER\",\"NLD\",\"LUX\",\"USA\",\"VNM\",\"ISR\",\"PRT\",\"LTU\",\"TWN\",\"CHL\",\"CAN\",\"COL\",\"ARG\",\"ESP\",\"LKA\",\"IRL\",\"SWE\",\"NGA\",\"SGP\",\"IND\",\"HKG\",\"BEL\",\"CHN\",\"IDN\",\"DEU\",\"CHE\",\"CZE\",\"PHL\"],\"locationmode\":\"ISO-3\",\"locations\":[\"POL\",\"BRA\",\"FRA\",\"ETH\",\"ITA\",\"HRV\",\"GBR\",\"ARE\",\"NPL\",\"UGA\",\"AUS\",\"MLT\",\"MEX\",\"BGD\",\"MNG\",\"SVK\",\"HUN\",\"NOR\",\"FIN\",\"BHR\",\"BIH\",\"KWT\",\"PER\",\"NLD\",\"LUX\",\"USA\",\"VNM\",\"ISR\",\"PRT\",\"LTU\",\"TWN\",\"CHL\",\"CAN\",\"COL\",\"ARG\",\"ESP\",\"LKA\",\"IRL\",\"SWE\",\"NGA\",\"SGP\",\"IND\",\"HKG\",\"BEL\",\"CHN\",\"IDN\",\"DEU\",\"CHE\",\"CZE\",\"PHL\"],\"name\":\"\",\"z\":[24.05361748247105,14.630584294487273,9.960313034480015,-435.2741653418124,-22.886323268206038,14.237460136670459,10.776040840142873,52.7,-91.86053140719721,-123.0183768854897,-21.511865203092885,11.88986175115207,22.20273606065776,32.13314544189282,77.67223623416164,17.42278965966434,16.353211548137836,7.103009350039276,4.898735181680247,-56.06142208774585,20.932474446337306,-2.0292786122276287,-6.924393026596961,-58.46695675234298,9.039786894273128,7.566906641680973,-21.38857947326857,13.814184008762325,10.996505444416316,5.393878239408116,24.246843897879113,23.868745652311866,6.000373120291121,-114.96591739908223,10.1811683006536,11.143708164850828,-69.1996161228407,6.871576834401243,-0.9766297279278378,16.333215269578904,70.59294117647057,70.64616595583713,32.69377682403434,13.03198122948369,-15.983701066866066,-8.286981190255936,10.753844381179599,8.920515137067937,18.23558088646888,17.2321503131524],\"type\":\"choropleth\"}],                        {\"template\":{\"data\":{\"bar\":[{\"error_x\":{\"color\":\"#2a3f5f\"},\"error_y\":{\"color\":\"#2a3f5f\"},\"marker\":{\"line\":{\"color\":\"#E5ECF6\",\"width\":0.5},\"pattern\":{\"fillmode\":\"overlay\",\"size\":10,\"solidity\":0.2}},\"type\":\"bar\"}],\"barpolar\":[{\"marker\":{\"line\":{\"color\":\"#E5ECF6\",\"width\":0.5},\"pattern\":{\"fillmode\":\"overlay\",\"size\":10,\"solidity\":0.2}},\"type\":\"barpolar\"}],\"carpet\":[{\"aaxis\":{\"endlinecolor\":\"#2a3f5f\",\"gridcolor\":\"white\",\"linecolor\":\"white\",\"minorgridcolor\":\"white\",\"startlinecolor\":\"#2a3f5f\"},\"baxis\":{\"endlinecolor\":\"#2a3f5f\",\"gridcolor\":\"white\",\"linecolor\":\"white\",\"minorgridcolor\":\"white\",\"startlinecolor\":\"#2a3f5f\"},\"type\":\"carpet\"}],\"choropleth\":[{\"colorbar\":{\"outlinewidth\":0,\"ticks\":\"\"},\"type\":\"choropleth\"}],\"contour\":[{\"colorbar\":{\"outlinewidth\":0,\"ticks\":\"\"},\"colorscale\":[[0.0,\"#0d0887\"],[0.1111111111111111,\"#46039f\"],[0.2222222222222222,\"#7201a8\"],[0.3333333333333333,\"#9c179e\"],[0.4444444444444444,\"#bd3786\"],[0.5555555555555556,\"#d8576b\"],[0.6666666666666666,\"#ed7953\"],[0.7777777777777778,\"#fb9f3a\"],[0.8888888888888888,\"#fdca26\"],[1.0,\"#f0f921\"]],\"type\":\"contour\"}],\"contourcarpet\":[{\"colorbar\":{\"outlinewidth\":0,\"ticks\":\"\"},\"type\":\"contourcarpet\"}],\"heatmap\":[{\"colorbar\":{\"outlinewidth\":0,\"ticks\":\"\"},\"colorscale\":[[0.0,\"#0d0887\"],[0.1111111111111111,\"#46039f\"],[0.2222222222222222,\"#7201a8\"],[0.3333333333333333,\"#9c179e\"],[0.4444444444444444,\"#bd3786\"],[0.5555555555555556,\"#d8576b\"],[0.6666666666666666,\"#ed7953\"],[0.7777777777777778,\"#fb9f3a\"],[0.8888888888888888,\"#fdca26\"],[1.0,\"#f0f921\"]],\"type\":\"heatmap\"}],\"heatmapgl\":[{\"colorbar\":{\"outlinewidth\":0,\"ticks\":\"\"},\"colorscale\":[[0.0,\"#0d0887\"],[0.1111111111111111,\"#46039f\"],[0.2222222222222222,\"#7201a8\"],[0.3333333333333333,\"#9c179e\"],[0.4444444444444444,\"#bd3786\"],[0.5555555555555556,\"#d8576b\"],[0.6666666666666666,\"#ed7953\"],[0.7777777777777778,\"#fb9f3a\"],[0.8888888888888888,\"#fdca26\"],[1.0,\"#f0f921\"]],\"type\":\"heatmapgl\"}],\"histogram\":[{\"marker\":{\"pattern\":{\"fillmode\":\"overlay\",\"size\":10,\"solidity\":0.2}},\"type\":\"histogram\"}],\"histogram2d\":[{\"colorbar\":{\"outlinewidth\":0,\"ticks\":\"\"},\"colorscale\":[[0.0,\"#0d0887\"],[0.1111111111111111,\"#46039f\"],[0.2222222222222222,\"#7201a8\"],[0.3333333333333333,\"#9c179e\"],[0.4444444444444444,\"#bd3786\"],[0.5555555555555556,\"#d8576b\"],[0.6666666666666666,\"#ed7953\"],[0.7777777777777778,\"#fb9f3a\"],[0.8888888888888888,\"#fdca26\"],[1.0,\"#f0f921\"]],\"type\":\"histogram2d\"}],\"histogram2dcontour\":[{\"colorbar\":{\"outlinewidth\":0,\"ticks\":\"\"},\"colorscale\":[[0.0,\"#0d0887\"],[0.1111111111111111,\"#46039f\"],[0.2222222222222222,\"#7201a8\"],[0.3333333333333333,\"#9c179e\"],[0.4444444444444444,\"#bd3786\"],[0.5555555555555556,\"#d8576b\"],[0.6666666666666666,\"#ed7953\"],[0.7777777777777778,\"#fb9f3a\"],[0.8888888888888888,\"#fdca26\"],[1.0,\"#f0f921\"]],\"type\":\"histogram2dcontour\"}],\"mesh3d\":[{\"colorbar\":{\"outlinewidth\":0,\"ticks\":\"\"},\"type\":\"mesh3d\"}],\"parcoords\":[{\"line\":{\"colorbar\":{\"outlinewidth\":0,\"ticks\":\"\"}},\"type\":\"parcoords\"}],\"pie\":[{\"automargin\":true,\"type\":\"pie\"}],\"scatter\":[{\"marker\":{\"colorbar\":{\"outlinewidth\":0,\"ticks\":\"\"}},\"type\":\"scatter\"}],\"scatter3d\":[{\"line\":{\"colorbar\":{\"outlinewidth\":0,\"ticks\":\"\"}},\"marker\":{\"colorbar\":{\"outlinewidth\":0,\"ticks\":\"\"}},\"type\":\"scatter3d\"}],\"scattercarpet\":[{\"marker\":{\"colorbar\":{\"outlinewidth\":0,\"ticks\":\"\"}},\"type\":\"scattercarpet\"}],\"scattergeo\":[{\"marker\":{\"colorbar\":{\"outlinewidth\":0,\"ticks\":\"\"}},\"type\":\"scattergeo\"}],\"scattergl\":[{\"marker\":{\"colorbar\":{\"outlinewidth\":0,\"ticks\":\"\"}},\"type\":\"scattergl\"}],\"scattermapbox\":[{\"marker\":{\"colorbar\":{\"outlinewidth\":0,\"ticks\":\"\"}},\"type\":\"scattermapbox\"}],\"scatterpolar\":[{\"marker\":{\"colorbar\":{\"outlinewidth\":0,\"ticks\":\"\"}},\"type\":\"scatterpolar\"}],\"scatterpolargl\":[{\"marker\":{\"colorbar\":{\"outlinewidth\":0,\"ticks\":\"\"}},\"type\":\"scatterpolargl\"}],\"scatterternary\":[{\"marker\":{\"colorbar\":{\"outlinewidth\":0,\"ticks\":\"\"}},\"type\":\"scatterternary\"}],\"surface\":[{\"colorbar\":{\"outlinewidth\":0,\"ticks\":\"\"},\"colorscale\":[[0.0,\"#0d0887\"],[0.1111111111111111,\"#46039f\"],[0.2222222222222222,\"#7201a8\"],[0.3333333333333333,\"#9c179e\"],[0.4444444444444444,\"#bd3786\"],[0.5555555555555556,\"#d8576b\"],[0.6666666666666666,\"#ed7953\"],[0.7777777777777778,\"#fb9f3a\"],[0.8888888888888888,\"#fdca26\"],[1.0,\"#f0f921\"]],\"type\":\"surface\"}],\"table\":[{\"cells\":{\"fill\":{\"color\":\"#EBF0F8\"},\"line\":{\"color\":\"white\"}},\"header\":{\"fill\":{\"color\":\"#C8D4E3\"},\"line\":{\"color\":\"white\"}},\"type\":\"table\"}]},\"layout\":{\"annotationdefaults\":{\"arrowcolor\":\"#2a3f5f\",\"arrowhead\":0,\"arrowwidth\":1},\"autotypenumbers\":\"strict\",\"coloraxis\":{\"colorbar\":{\"outlinewidth\":0,\"ticks\":\"\"}},\"colorscale\":{\"diverging\":[[0,\"#8e0152\"],[0.1,\"#c51b7d\"],[0.2,\"#de77ae\"],[0.3,\"#f1b6da\"],[0.4,\"#fde0ef\"],[0.5,\"#f7f7f7\"],[0.6,\"#e6f5d0\"],[0.7,\"#b8e186\"],[0.8,\"#7fbc41\"],[0.9,\"#4d9221\"],[1,\"#276419\"]],\"sequential\":[[0.0,\"#0d0887\"],[0.1111111111111111,\"#46039f\"],[0.2222222222222222,\"#7201a8\"],[0.3333333333333333,\"#9c179e\"],[0.4444444444444444,\"#bd3786\"],[0.5555555555555556,\"#d8576b\"],[0.6666666666666666,\"#ed7953\"],[0.7777777777777778,\"#fb9f3a\"],[0.8888888888888888,\"#fdca26\"],[1.0,\"#f0f921\"]],\"sequentialminus\":[[0.0,\"#0d0887\"],[0.1111111111111111,\"#46039f\"],[0.2222222222222222,\"#7201a8\"],[0.3333333333333333,\"#9c179e\"],[0.4444444444444444,\"#bd3786\"],[0.5555555555555556,\"#d8576b\"],[0.6666666666666666,\"#ed7953\"],[0.7777777777777778,\"#fb9f3a\"],[0.8888888888888888,\"#fdca26\"],[1.0,\"#f0f921\"]]},\"colorway\":[\"#636efa\",\"#EF553B\",\"#00cc96\",\"#ab63fa\",\"#FFA15A\",\"#19d3f3\",\"#FF6692\",\"#B6E880\",\"#FF97FF\",\"#FECB52\"],\"font\":{\"color\":\"#2a3f5f\"},\"geo\":{\"bgcolor\":\"white\",\"lakecolor\":\"white\",\"landcolor\":\"#E5ECF6\",\"showlakes\":true,\"showland\":true,\"subunitcolor\":\"white\"},\"hoverlabel\":{\"align\":\"left\"},\"hovermode\":\"closest\",\"mapbox\":{\"style\":\"light\"},\"paper_bgcolor\":\"white\",\"plot_bgcolor\":\"#E5ECF6\",\"polar\":{\"angularaxis\":{\"gridcolor\":\"white\",\"linecolor\":\"white\",\"ticks\":\"\"},\"bgcolor\":\"#E5ECF6\",\"radialaxis\":{\"gridcolor\":\"white\",\"linecolor\":\"white\",\"ticks\":\"\"}},\"scene\":{\"xaxis\":{\"backgroundcolor\":\"#E5ECF6\",\"gridcolor\":\"white\",\"gridwidth\":2,\"linecolor\":\"white\",\"showbackground\":true,\"ticks\":\"\",\"zerolinecolor\":\"white\"},\"yaxis\":{\"backgroundcolor\":\"#E5ECF6\",\"gridcolor\":\"white\",\"gridwidth\":2,\"linecolor\":\"white\",\"showbackground\":true,\"ticks\":\"\",\"zerolinecolor\":\"white\"},\"zaxis\":{\"backgroundcolor\":\"#E5ECF6\",\"gridcolor\":\"white\",\"gridwidth\":2,\"linecolor\":\"white\",\"showbackground\":true,\"ticks\":\"\",\"zerolinecolor\":\"white\"}},\"shapedefaults\":{\"line\":{\"color\":\"#2a3f5f\"}},\"ternary\":{\"aaxis\":{\"gridcolor\":\"white\",\"linecolor\":\"white\",\"ticks\":\"\"},\"baxis\":{\"gridcolor\":\"white\",\"linecolor\":\"white\",\"ticks\":\"\"},\"bgcolor\":\"#E5ECF6\",\"caxis\":{\"gridcolor\":\"white\",\"linecolor\":\"white\",\"ticks\":\"\"}},\"title\":{\"x\":0.05},\"xaxis\":{\"automargin\":true,\"gridcolor\":\"white\",\"linecolor\":\"white\",\"ticks\":\"\",\"title\":{\"standoff\":15},\"zerolinecolor\":\"white\",\"zerolinewidth\":2},\"yaxis\":{\"automargin\":true,\"gridcolor\":\"white\",\"linecolor\":\"white\",\"ticks\":\"\",\"title\":{\"standoff\":15},\"zerolinecolor\":\"white\",\"zerolinewidth\":2}}},\"geo\":{\"domain\":{\"x\":[0.0,1.0],\"y\":[0.0,1.0]},\"center\":{}},\"coloraxis\":{\"colorbar\":{\"title\":{\"text\":\"avg_pm25\"}},\"colorscale\":[[0.0,\"#0d0887\"],[0.1111111111111111,\"#46039f\"],[0.2222222222222222,\"#7201a8\"],[0.3333333333333333,\"#9c179e\"],[0.4444444444444444,\"#bd3786\"],[0.5555555555555556,\"#d8576b\"],[0.6666666666666666,\"#ed7953\"],[0.7777777777777778,\"#fb9f3a\"],[0.8888888888888888,\"#fdca26\"],[1.0,\"#f0f921\"]]},\"legend\":{\"tracegroupgap\":0},\"margin\":{\"t\":60}},                        {\"responsive\": true}                    )                };                            </script>        </div>\n</body>\n</html>",
       "datasetInfos": [],
       "metadata": {},
       "removedWidgets": [],
       "textData": null,
       "type": "htmlSandbox"
      }
     },
     "output_type": "display_data"
    }
   ],
   "source": [
    "import plotly.express as px\n",
    " \n",
    "df_wizu=smog_df.join(cc, smog_df.country == cc.A2,\"inner\")\n",
    " \n",
    "grouped_data = df_wizu.filter(col('parameter')=='pm25')\\\n",
    "    .groupBy('A3') \\\n",
    "    .agg(avg('value').alias('avg_pm25'))\n",
    " \n",
    "pandas_df = grouped_data.toPandas()\n",
    " \n",
    "fig = px.choropleth(pandas_df, locations=\"A3\",\n",
    "                    locationmode='ISO-3',\n",
    "                    color=\"avg_pm25\", \n",
    "                    hover_name=\"A3\")\n",
    " \n",
    "fig.show()\n",
    " \n",
    "fig.write_html(\"animated_map.html\")"
   ]
  },
  {
   "cell_type": "markdown",
   "metadata": {
    "application/vnd.databricks.v1+cell": {
     "cellMetadata": {
      "byteLimit": 2048000,
      "rowLimit": 10000
     },
     "inputWidgets": {},
     "nuid": "244f207e-e74b-497e-93dc-193852543d6b",
     "showTitle": false,
     "title": ""
    }
   },
   "source": [
    "### Zadanie 5"
   ]
  },
  {
   "cell_type": "markdown",
   "metadata": {
    "application/vnd.databricks.v1+cell": {
     "cellMetadata": {
      "byteLimit": 2048000,
      "rowLimit": 10000
     },
     "inputWidgets": {},
     "nuid": "14b61bc9-a190-4031-bda9-74e182815b17",
     "showTitle": false,
     "title": ""
    }
   },
   "source": [
    "[1p.] Stwórz własne nietrywialne zapytanie . Załącz wybrane wykresy ze Spark UI (https://spark.apache.org/docs/latest/web-ui.html), np. DAG, diagram Gantta, informacje o rozmiarach danych.\n"
   ]
  },
  {
   "cell_type": "code",
   "execution_count": 0,
   "metadata": {
    "application/vnd.databricks.v1+cell": {
     "cellMetadata": {
      "byteLimit": 2048000,
      "rowLimit": 10000
     },
     "inputWidgets": {},
     "nuid": "22734a4c-2685-429d-9766-24f2b247734b",
     "showTitle": false,
     "title": ""
    }
   },
   "outputs": [],
   "source": [
    "df_pd10_min = smog_df.filter((col('parameter') == 'pm10') & (col('country') == 'US'))\\\n",
    "    .select('country','city','value')\\\n",
    "    .groupby('country','city').agg(min('value').alias('min_value'))\\\n",
    "    .sort(col('min_value'))"
   ]
  },
  {
   "cell_type": "code",
   "execution_count": 0,
   "metadata": {
    "application/vnd.databricks.v1+cell": {
     "cellMetadata": {
      "byteLimit": 2048000,
      "rowLimit": 10000
     },
     "inputWidgets": {},
     "nuid": "5e3ee504-5bd8-4a92-bd54-f1cf0e829957",
     "showTitle": false,
     "title": ""
    }
   },
   "outputs": [
    {
     "output_type": "display_data",
     "data": {
      "text/html": [
       "<div>\n",
       "<style scoped>\n",
       "    .dataframe tbody tr th:only-of-type {\n",
       "        vertical-align: middle;\n",
       "    }\n",
       "\n",
       "    .dataframe tbody tr th {\n",
       "        vertical-align: top;\n",
       "    }\n",
       "\n",
       "    .dataframe thead th {\n",
       "        text-align: right;\n",
       "    }\n",
       "</style>\n",
       "<table border=\"1\" class=\"dataframe\">\n",
       "  <thead>\n",
       "    <tr style=\"text-align: right;\">\n",
       "      <th></th>\n",
       "      <th>country</th>\n",
       "      <th>city</th>\n",
       "      <th>min_value</th>\n",
       "    </tr>\n",
       "  </thead>\n",
       "  <tbody>\n",
       "    <tr>\n",
       "      <th>0</th>\n",
       "      <td>US</td>\n",
       "      <td>New York-Northern New Jersey-Long Island</td>\n",
       "      <td>-256.0</td>\n",
       "    </tr>\n",
       "    <tr>\n",
       "      <th>1</th>\n",
       "      <td>US</td>\n",
       "      <td>Phoenix-Mesa-Scottsdale</td>\n",
       "      <td>-164.0</td>\n",
       "    </tr>\n",
       "    <tr>\n",
       "      <th>2</th>\n",
       "      <td>US</td>\n",
       "      <td>UNION</td>\n",
       "      <td>-51.0</td>\n",
       "    </tr>\n",
       "    <tr>\n",
       "      <th>3</th>\n",
       "      <td>US</td>\n",
       "      <td>MONO</td>\n",
       "      <td>-50.0</td>\n",
       "    </tr>\n",
       "    <tr>\n",
       "      <th>4</th>\n",
       "      <td>US</td>\n",
       "      <td>CUSTER</td>\n",
       "      <td>-30.0</td>\n",
       "    </tr>\n",
       "  </tbody>\n",
       "</table>\n",
       "</div>"
      ]
     },
     "metadata": {
      "application/vnd.databricks.v1+output": {
       "addedWidgets": {},
       "arguments": {},
       "data": "<div>\n<style scoped>\n    .dataframe tbody tr th:only-of-type {\n        vertical-align: middle;\n    }\n\n    .dataframe tbody tr th {\n        vertical-align: top;\n    }\n\n    .dataframe thead th {\n        text-align: right;\n    }\n</style>\n<table border=\"1\" class=\"dataframe\">\n  <thead>\n    <tr style=\"text-align: right;\">\n      <th></th>\n      <th>country</th>\n      <th>city</th>\n      <th>min_value</th>\n    </tr>\n  </thead>\n  <tbody>\n    <tr>\n      <th>0</th>\n      <td>US</td>\n      <td>New York-Northern New Jersey-Long Island</td>\n      <td>-256.0</td>\n    </tr>\n    <tr>\n      <th>1</th>\n      <td>US</td>\n      <td>Phoenix-Mesa-Scottsdale</td>\n      <td>-164.0</td>\n    </tr>\n    <tr>\n      <th>2</th>\n      <td>US</td>\n      <td>UNION</td>\n      <td>-51.0</td>\n    </tr>\n    <tr>\n      <th>3</th>\n      <td>US</td>\n      <td>MONO</td>\n      <td>-50.0</td>\n    </tr>\n    <tr>\n      <th>4</th>\n      <td>US</td>\n      <td>CUSTER</td>\n      <td>-30.0</td>\n    </tr>\n  </tbody>\n</table>\n</div>",
       "datasetInfos": [],
       "metadata": {},
       "removedWidgets": [],
       "textData": null,
       "type": "htmlSandbox"
      }
     },
     "output_type": "display_data"
    }
   ],
   "source": [
    "df_pd10_min.toPandas().head(5)"
   ]
  },
  {
   "cell_type": "code",
   "execution_count": 0,
   "metadata": {
    "application/vnd.databricks.v1+cell": {
     "cellMetadata": {},
     "inputWidgets": {},
     "nuid": "ecddab11-c1c1-4b10-85aa-0eecb642c019",
     "showTitle": false,
     "title": ""
    }
   },
   "outputs": [],
   "source": []
  }
 ],
 "metadata": {
  "application/vnd.databricks.v1+notebook": {
   "dashboards": [],
   "language": "python",
   "notebookMetadata": {
    "pythonIndentUnit": 4
   },
   "notebookName": "ADZD-3-Smog-homework",
   "widgets": {}
  },
  "kernelspec": {
   "display_name": "PySpark",
   "language": "python",
   "name": "pysparkkernel"
  },
  "language_info": {
   "codemirror_mode": {
    "name": "python",
    "version": 3
   },
   "file_extension": ".py",
   "mimetype": "text/x-python",
   "name": "pyspark",
   "pygments_lexer": "python3"
  }
 },
 "nbformat": 4,
 "nbformat_minor": 0
}
